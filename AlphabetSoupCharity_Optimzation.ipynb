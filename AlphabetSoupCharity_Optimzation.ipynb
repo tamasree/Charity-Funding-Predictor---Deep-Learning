{
 "cells": [
  {
   "cell_type": "code",
   "execution_count": 183,
   "id": "281da690-b31d-4394-b9c0-61615a160658",
   "metadata": {},
   "outputs": [
    {
     "data": {
      "text/html": [
       "<div>\n",
       "<style scoped>\n",
       "    .dataframe tbody tr th:only-of-type {\n",
       "        vertical-align: middle;\n",
       "    }\n",
       "\n",
       "    .dataframe tbody tr th {\n",
       "        vertical-align: top;\n",
       "    }\n",
       "\n",
       "    .dataframe thead th {\n",
       "        text-align: right;\n",
       "    }\n",
       "</style>\n",
       "<table border=\"1\" class=\"dataframe\">\n",
       "  <thead>\n",
       "    <tr style=\"text-align: right;\">\n",
       "      <th></th>\n",
       "      <th>EIN</th>\n",
       "      <th>NAME</th>\n",
       "      <th>APPLICATION_TYPE</th>\n",
       "      <th>AFFILIATION</th>\n",
       "      <th>CLASSIFICATION</th>\n",
       "      <th>USE_CASE</th>\n",
       "      <th>ORGANIZATION</th>\n",
       "      <th>STATUS</th>\n",
       "      <th>INCOME_AMT</th>\n",
       "      <th>SPECIAL_CONSIDERATIONS</th>\n",
       "      <th>ASK_AMT</th>\n",
       "      <th>IS_SUCCESSFUL</th>\n",
       "    </tr>\n",
       "  </thead>\n",
       "  <tbody>\n",
       "    <tr>\n",
       "      <th>0</th>\n",
       "      <td>10520599</td>\n",
       "      <td>BLUE KNIGHTS MOTORCYCLE CLUB</td>\n",
       "      <td>T10</td>\n",
       "      <td>Independent</td>\n",
       "      <td>C1000</td>\n",
       "      <td>ProductDev</td>\n",
       "      <td>Association</td>\n",
       "      <td>1</td>\n",
       "      <td>0</td>\n",
       "      <td>N</td>\n",
       "      <td>5000</td>\n",
       "      <td>1</td>\n",
       "    </tr>\n",
       "    <tr>\n",
       "      <th>1</th>\n",
       "      <td>10531628</td>\n",
       "      <td>AMERICAN CHESAPEAKE CLUB CHARITABLE TR</td>\n",
       "      <td>T3</td>\n",
       "      <td>Independent</td>\n",
       "      <td>C2000</td>\n",
       "      <td>Preservation</td>\n",
       "      <td>Co-operative</td>\n",
       "      <td>1</td>\n",
       "      <td>1-9999</td>\n",
       "      <td>N</td>\n",
       "      <td>108590</td>\n",
       "      <td>1</td>\n",
       "    </tr>\n",
       "    <tr>\n",
       "      <th>2</th>\n",
       "      <td>10547893</td>\n",
       "      <td>ST CLOUD PROFESSIONAL FIREFIGHTERS</td>\n",
       "      <td>T5</td>\n",
       "      <td>CompanySponsored</td>\n",
       "      <td>C3000</td>\n",
       "      <td>ProductDev</td>\n",
       "      <td>Association</td>\n",
       "      <td>1</td>\n",
       "      <td>0</td>\n",
       "      <td>N</td>\n",
       "      <td>5000</td>\n",
       "      <td>0</td>\n",
       "    </tr>\n",
       "    <tr>\n",
       "      <th>3</th>\n",
       "      <td>10553066</td>\n",
       "      <td>SOUTHSIDE ATHLETIC ASSOCIATION</td>\n",
       "      <td>T3</td>\n",
       "      <td>CompanySponsored</td>\n",
       "      <td>C2000</td>\n",
       "      <td>Preservation</td>\n",
       "      <td>Trust</td>\n",
       "      <td>1</td>\n",
       "      <td>10000-24999</td>\n",
       "      <td>N</td>\n",
       "      <td>6692</td>\n",
       "      <td>1</td>\n",
       "    </tr>\n",
       "    <tr>\n",
       "      <th>4</th>\n",
       "      <td>10556103</td>\n",
       "      <td>GENETIC RESEARCH INSTITUTE OF THE DESERT</td>\n",
       "      <td>T3</td>\n",
       "      <td>Independent</td>\n",
       "      <td>C1000</td>\n",
       "      <td>Heathcare</td>\n",
       "      <td>Trust</td>\n",
       "      <td>1</td>\n",
       "      <td>100000-499999</td>\n",
       "      <td>N</td>\n",
       "      <td>142590</td>\n",
       "      <td>1</td>\n",
       "    </tr>\n",
       "  </tbody>\n",
       "</table>\n",
       "</div>"
      ],
      "text/plain": [
       "        EIN                                      NAME APPLICATION_TYPE  \\\n",
       "0  10520599              BLUE KNIGHTS MOTORCYCLE CLUB              T10   \n",
       "1  10531628    AMERICAN CHESAPEAKE CLUB CHARITABLE TR               T3   \n",
       "2  10547893        ST CLOUD PROFESSIONAL FIREFIGHTERS               T5   \n",
       "3  10553066            SOUTHSIDE ATHLETIC ASSOCIATION               T3   \n",
       "4  10556103  GENETIC RESEARCH INSTITUTE OF THE DESERT               T3   \n",
       "\n",
       "        AFFILIATION CLASSIFICATION      USE_CASE  ORGANIZATION  STATUS  \\\n",
       "0       Independent          C1000    ProductDev   Association       1   \n",
       "1       Independent          C2000  Preservation  Co-operative       1   \n",
       "2  CompanySponsored          C3000    ProductDev   Association       1   \n",
       "3  CompanySponsored          C2000  Preservation         Trust       1   \n",
       "4       Independent          C1000     Heathcare         Trust       1   \n",
       "\n",
       "      INCOME_AMT SPECIAL_CONSIDERATIONS  ASK_AMT  IS_SUCCESSFUL  \n",
       "0              0                      N     5000              1  \n",
       "1         1-9999                      N   108590              1  \n",
       "2              0                      N     5000              0  \n",
       "3    10000-24999                      N     6692              1  \n",
       "4  100000-499999                      N   142590              1  "
      ]
     },
     "execution_count": 183,
     "metadata": {},
     "output_type": "execute_result"
    }
   ],
   "source": [
    "# Import our dependencies\n",
    "from sklearn.model_selection import train_test_split\n",
    "from sklearn.preprocessing import StandardScaler,MinMaxScaler\n",
    "import pandas as pd\n",
    "import tensorflow as tf\n",
    "\n",
    "#  Import and read the charity_data.csv.\n",
    "import pandas as pd \n",
    "application_df = pd.read_csv(\"Resources/charity_data.csv\")\n",
    "application_df.head()"
   ]
  },
  {
   "cell_type": "code",
   "execution_count": 184,
   "id": "e6696aea-b5bf-4073-bb2a-66a80550b3e1",
   "metadata": {},
   "outputs": [
    {
     "data": {
      "text/plain": [
       "(34299, 12)"
      ]
     },
     "execution_count": 184,
     "metadata": {},
     "output_type": "execute_result"
    }
   ],
   "source": [
    "application_df.shape"
   ]
  },
  {
   "cell_type": "code",
   "execution_count": 185,
   "id": "d61d64b0-8b6c-4240-97fd-4910c28f6db5",
   "metadata": {},
   "outputs": [
    {
     "data": {
      "text/plain": [
       "T3       27037\n",
       "T4        1542\n",
       "T6        1216\n",
       "T5        1173\n",
       "T19       1065\n",
       "T8         737\n",
       "T7         725\n",
       "T10        528\n",
       "Other      276\n",
       "Name: APPLICATION_TYPE, dtype: int64"
      ]
     },
     "execution_count": 185,
     "metadata": {},
     "output_type": "execute_result"
    }
   ],
   "source": [
    "application_df=application_df.drop(['EIN','NAME'],axis=1)\n",
    "\n",
    "application_types_to_replace=['T9','T13','T12','T2','T14','T25','T15','T29','T17']\n",
    "\n",
    "for app in application_types_to_replace:\n",
    "    application_df['APPLICATION_TYPE'] = application_df['APPLICATION_TYPE'].replace(app,\"Other\")\n",
    "    \n",
    "application_df['APPLICATION_TYPE'].value_counts()"
   ]
  },
  {
   "cell_type": "code",
   "execution_count": 186,
   "id": "454fa8ec-ff3d-40a4-9b85-0bd410daa9ba",
   "metadata": {},
   "outputs": [
    {
     "data": {
      "text/plain": [
       "C1000    17326\n",
       "C2000     6074\n",
       "C1200     4837\n",
       "C3000     1918\n",
       "C2100     1883\n",
       "C7000      777\n",
       "C1700      287\n",
       "C4000      194\n",
       "C5000      116\n",
       "C1270      114\n",
       "C2700      104\n",
       "C2800       95\n",
       "C7100       75\n",
       "C1300       58\n",
       "C1280       50\n",
       "C1230       36\n",
       "C1400       34\n",
       "C7200       32\n",
       "C2300       32\n",
       "C1240       30\n",
       "C8000       20\n",
       "C7120       18\n",
       "C1500       16\n",
       "C6000       15\n",
       "C1800       15\n",
       "C1250       14\n",
       "C8200       11\n",
       "C1278       10\n",
       "C1238       10\n",
       "C1235        9\n",
       "C1237        9\n",
       "C7210        7\n",
       "C4100        6\n",
       "C1720        6\n",
       "C2400        6\n",
       "C1600        5\n",
       "C1257        5\n",
       "C1260        3\n",
       "C2710        3\n",
       "C0           3\n",
       "C1234        2\n",
       "C1267        2\n",
       "C1256        2\n",
       "C3200        2\n",
       "C1246        2\n",
       "Name: CLASSIFICATION, dtype: int64"
      ]
     },
     "execution_count": 186,
     "metadata": {},
     "output_type": "execute_result"
    }
   ],
   "source": [
    "application_df=application_df.groupby('CLASSIFICATION').filter(lambda x: len(x) > 1)\n",
    "application_df['CLASSIFICATION'].value_counts()"
   ]
  },
  {
   "cell_type": "code",
   "execution_count": 187,
   "id": "e04d01f6-b7bc-4dbd-80f7-9995cb7f77f4",
   "metadata": {},
   "outputs": [
    {
     "data": {
      "text/plain": [
       "C1000    17326\n",
       "C2000     6074\n",
       "C1200     4837\n",
       "C3000     1918\n",
       "C2100     1883\n",
       "Other     1458\n",
       "C7000      777\n",
       "Name: CLASSIFICATION, dtype: int64"
      ]
     },
     "execution_count": 187,
     "metadata": {},
     "output_type": "execute_result"
    }
   ],
   "source": [
    "classification_dict=application_df['CLASSIFICATION'].value_counts().to_dict()\n",
    "\n",
    "classifications_to_replace=[]\n",
    "\n",
    "for key, value in classification_dict.items():\n",
    "    if value <500:\n",
    "        classifications_to_replace.append(key)\n",
    "        \n",
    "# Choose a cutoff value and create a list of classifications to be replaced\n",
    "# use the variable name `classifications_to_replace`\n",
    "#  YOUR CODE GOES HERE\n",
    "\n",
    "# Replace in dataframe\n",
    "\n",
    "for cls in classifications_to_replace:\n",
    "    application_df['CLASSIFICATION'] = application_df['CLASSIFICATION'].replace(cls,\"Other\")\n",
    "    \n",
    "# Check to make sure binning was successful\n",
    "application_df['CLASSIFICATION'].value_counts()"
   ]
  },
  {
   "cell_type": "code",
   "execution_count": 188,
   "id": "e3309abb-818a-44e7-9a5e-e2d2524c72a9",
   "metadata": {},
   "outputs": [
    {
     "data": {
      "text/plain": [
       "APPLICATION_TYPE          object\n",
       "AFFILIATION               object\n",
       "CLASSIFICATION            object\n",
       "USE_CASE                  object\n",
       "ORGANIZATION              object\n",
       "STATUS                     int64\n",
       "INCOME_AMT                object\n",
       "SPECIAL_CONSIDERATIONS    object\n",
       "ASK_AMT                    int64\n",
       "IS_SUCCESSFUL              int64\n",
       "dtype: object"
      ]
     },
     "execution_count": 188,
     "metadata": {},
     "output_type": "execute_result"
    }
   ],
   "source": [
    "application_df.dtypes"
   ]
  },
  {
   "cell_type": "code",
   "execution_count": 189,
   "id": "a5446b58-63cf-4475-ac72-242ee40bfb35",
   "metadata": {},
   "outputs": [
    {
     "data": {
      "text/plain": [
       "1    34268\n",
       "0        5\n",
       "Name: STATUS, dtype: int64"
      ]
     },
     "execution_count": 189,
     "metadata": {},
     "output_type": "execute_result"
    }
   ],
   "source": [
    "application_df['STATUS'].value_counts()"
   ]
  },
  {
   "cell_type": "code",
   "execution_count": 190,
   "id": "5e4ec19f-cb46-46d4-a47c-c4b040c9eae7",
   "metadata": {},
   "outputs": [],
   "source": [
    "# dropping rows with active status 0\n",
    "application_df=application_df.loc[application_df['STATUS']==1,:]"
   ]
  },
  {
   "cell_type": "code",
   "execution_count": 191,
   "id": "ffc74d02-c1b9-4817-8685-5229eaf0356c",
   "metadata": {},
   "outputs": [
    {
     "data": {
      "text/plain": [
       "<AxesSubplot:>"
      ]
     },
     "execution_count": 191,
     "metadata": {},
     "output_type": "execute_result"
    },
    {
     "data": {
      "image/png": "[encoded data removed]",
      "text/plain": [
       "<Figure size 432x288 with 1 Axes>"
      ]
     },
     "metadata": {
      "needs_background": "light"
     },
     "output_type": "display_data"
    }
   ],
   "source": [
    "# checking for outliers in cols\n",
    "\n",
    "import matplotlib.pyplot as plt\n",
    "application_df.boxplot(column=['ASK_AMT'])"
   ]
  },
  {
   "cell_type": "code",
   "execution_count": 192,
   "id": "858c66be-af84-46f2-8cb1-f90856b62131",
   "metadata": {},
   "outputs": [
    {
     "name": "stdout",
     "output_type": "stream",
     "text": [
      "max_ASK_AMT : 8597806340\n",
      "min_ASK_AMT : 5000\n"
     ]
    }
   ],
   "source": [
    "max_ASK_AMT=application_df['ASK_AMT'].max()\n",
    "min_ASK_AMT=application_df['ASK_AMT'].min()\n",
    "\n",
    "print (f'max_ASK_AMT : {max_ASK_AMT}')\n",
    "print (f'min_ASK_AMT : {min_ASK_AMT}')\n"
   ]
  },
  {
   "cell_type": "code",
   "execution_count": 193,
   "id": "11d13e5e-ec1c-4531-8c2d-945807e79d48",
   "metadata": {},
   "outputs": [],
   "source": [
    "import numpy as np\n",
    "quartiles=np.quantile(application_df['ASK_AMT'],[.25,.75])\n",
    "iqr=quartiles[1]-quartiles[0]\n",
    "lower_band=quartiles[0]-1.5*iqr\n",
    "upper_band=quartiles[1]+ 1.5*iqr\n",
    "\n",
    "#dropping outliers\n",
    "filt=(application_df['ASK_AMT']<=upper_band)| (application_df['ASK_AMT']>=lower_band)\n",
    "application_df=application_df.loc[filt,:]"
   ]
  },
  {
   "cell_type": "code",
   "execution_count": 194,
   "id": "210985a6-4f97-4358-9825-7c24e1801ee5",
   "metadata": {},
   "outputs": [
    {
     "data": {
      "text/plain": [
       "(34268, 10)"
      ]
     },
     "execution_count": 194,
     "metadata": {},
     "output_type": "execute_result"
    }
   ],
   "source": [
    "application_df.shape"
   ]
  },
  {
   "cell_type": "code",
   "execution_count": 195,
   "id": "cf5e6d39-301a-48e6-bf17-f9908a8d5d9a",
   "metadata": {},
   "outputs": [
    {
     "data": {
      "text/plain": [
       "Index(['STATUS', 'ASK_AMT', 'IS_SUCCESSFUL', 'APPLICATION_TYPE_T10',\n",
       "       'APPLICATION_TYPE_T19', 'APPLICATION_TYPE_T3', 'APPLICATION_TYPE_T4',\n",
       "       'APPLICATION_TYPE_T5', 'APPLICATION_TYPE_T6', 'APPLICATION_TYPE_T7',\n",
       "       'APPLICATION_TYPE_T8', 'AFFILIATION_Family/Parent',\n",
       "       'AFFILIATION_Independent', 'AFFILIATION_National', 'AFFILIATION_Other',\n",
       "       'AFFILIATION_Regional', 'CLASSIFICATION_C1200', 'CLASSIFICATION_C2000',\n",
       "       'CLASSIFICATION_C2100', 'CLASSIFICATION_C3000', 'CLASSIFICATION_C7000',\n",
       "       'CLASSIFICATION_Other', 'USE_CASE_Heathcare', 'USE_CASE_Other',\n",
       "       'USE_CASE_Preservation', 'USE_CASE_ProductDev',\n",
       "       'ORGANIZATION_Co-operative', 'ORGANIZATION_Corporation',\n",
       "       'ORGANIZATION_Trust', 'INCOME_AMT_1-9999', 'INCOME_AMT_10000-24999',\n",
       "       'INCOME_AMT_100000-499999', 'INCOME_AMT_10M-50M', 'INCOME_AMT_1M-5M',\n",
       "       'INCOME_AMT_25000-99999', 'INCOME_AMT_50M+', 'INCOME_AMT_5M-10M',\n",
       "       'SPECIAL_CONSIDERATIONS_Y'],\n",
       "      dtype='object')"
      ]
     },
     "execution_count": 195,
     "metadata": {},
     "output_type": "execute_result"
    }
   ],
   "source": [
    "# Convert categorical data to numeric with `pd.get_dummies`\n",
    "#  YOUR CODE GOES HERE\n",
    "application_df_encoded =pd.get_dummies(application_df, drop_first=True)\n",
    "application_df_encoded.columns"
   ]
  },
  {
   "cell_type": "code",
   "execution_count": 196,
   "id": "79759d11-f1c4-42d7-aaf5-06b05d7da45e",
   "metadata": {},
   "outputs": [
    {
     "data": {
      "text/plain": [
       "(34268, 38)"
      ]
     },
     "execution_count": 196,
     "metadata": {},
     "output_type": "execute_result"
    }
   ],
   "source": [
    "application_df_encoded.shape"
   ]
  },
  {
   "cell_type": "code",
   "execution_count": 197,
   "id": "76938325-3455-41e5-9bd6-75fe3e7769cc",
   "metadata": {},
   "outputs": [],
   "source": [
    "X=application_df_encoded.drop(['IS_SUCCESSFUL'],axis=1)\n",
    "y=application_df_encoded['IS_SUCCESSFUL']"
   ]
  },
  {
   "cell_type": "code",
   "execution_count": 198,
   "id": "6036267f-af61-439b-9757-ed959a9684c1",
   "metadata": {},
   "outputs": [
    {
     "data": {
      "text/plain": [
       "(34268, 37)"
      ]
     },
     "execution_count": 198,
     "metadata": {},
     "output_type": "execute_result"
    }
   ],
   "source": [
    "X.shape"
   ]
  },
  {
   "cell_type": "code",
   "execution_count": 199,
   "id": "b6e05745-cbd5-415c-875b-eb9cbccb253c",
   "metadata": {},
   "outputs": [],
   "source": [
    "# Split the preprocessed data into a training and testing dataset\n",
    "#  YOUR CODE GOES HERE\n",
    "X_train,X_test,y_train,y_test=train_test_split(X,y)"
   ]
  },
  {
   "cell_type": "code",
   "execution_count": 200,
   "id": "83e125b1-b8de-4d4c-9cfe-1245af912741",
   "metadata": {
    "tags": []
   },
   "outputs": [],
   "source": [
    "# Create a StandardScaler instances\n",
    "scaler = MinMaxScaler()\n",
    "\n",
    "# Fit the StandardScaler\n",
    "X_scaler = scaler.fit(X_train)\n",
    "\n",
    "# Scale the data\n",
    "X_train_scaled = X_scaler.transform(X_train)\n",
    "X_test_scaled = X_scaler.transform(X_test)"
   ]
  },
  {
   "cell_type": "markdown",
   "id": "534391e1-51f7-4bc2-bc9b-51e6ca0c50f7",
   "metadata": {},
   "source": [
    "### Attempt 1 for optimization selecting different hyperparameters"
   ]
  },
  {
   "cell_type": "code",
   "execution_count": 201,
   "id": "7c927f37-56dc-4c26-b717-b6aa90fd3202",
   "metadata": {},
   "outputs": [
    {
     "name": "stdout",
     "output_type": "stream",
     "text": [
      "Model: \"sequential_1\"\n",
      "_________________________________________________________________\n",
      "Layer (type)                 Output Shape              Param #   \n",
      "=================================================================\n",
      "dense_6 (Dense)              (None, 74)                2812      \n",
      "_________________________________________________________________\n",
      "dense_7 (Dense)              (None, 37)                2775      \n",
      "_________________________________________________________________\n",
      "dense_8 (Dense)              (None, 18)                684       \n",
      "_________________________________________________________________\n",
      "dense_9 (Dense)              (None, 1)                 19        \n",
      "=================================================================\n",
      "Total params: 6,290\n",
      "Trainable params: 6,290\n",
      "Non-trainable params: 0\n",
      "_________________________________________________________________\n"
     ]
    }
   ],
   "source": [
    "# Define the model - deep neural net, i.e., the number of input features and hidden nodes for each layer.\n",
    "#  YOUR CODE GOES HERE\n",
    "\n",
    "nn = tf.keras.models.Sequential()\n",
    "\n",
    "# First hidden layer\n",
    "#  YOUR CODE GOES HERE\n",
    "nn.add(tf.keras.layers.Dense(units=74,activation='relu',input_dim=37))\n",
    "# Second hidden layer\n",
    "#  YOUR CODE GOES HERE\n",
    "nn.add(tf.keras.layers.Dense(units=37,activation='relu'))\n",
    "nn.add(tf.keras.layers.Dense(units=18,activation='tanh'))\n",
    "# Output layer\n",
    "#  YOUR CODE GOES HERE\n",
    "nn.add(tf.keras.layers.Dense(units=1,activation='sigmoid'))\n",
    "# Check the structure of the model\n",
    "nn.summary()"
   ]
  },
  {
   "cell_type": "code",
   "execution_count": 202,
   "id": "1cfc2370-c331-4798-96e7-49a297d37035",
   "metadata": {},
   "outputs": [
    {
     "name": "stdout",
     "output_type": "stream",
     "text": [
      "Epoch 1/20\n",
      "2571/2571 [==============================] - 4s 1ms/step - loss: 0.5680 - accuracy: 0.7217\n",
      "Epoch 2/20\n",
      "2571/2571 [==============================] - 4s 1ms/step - loss: 0.5545 - accuracy: 0.7298\n",
      "Epoch 3/20\n",
      "2571/2571 [==============================] - 4s 1ms/step - loss: 0.5518 - accuracy: 0.7309: \n",
      "Epoch 4/20\n",
      "2571/2571 [==============================] - 4s 1ms/step - loss: 0.5496 - accuracy: 0.7312\n",
      "Epoch 5/20\n",
      "2571/2571 [==============================] - 4s 1ms/step - loss: 0.5481 - accuracy: 0.7309: 0s - loss: 0.5478 - accuracy: \n",
      "Epoch 6/20\n",
      "2571/2571 [==============================] - 3s 1ms/step - loss: 0.5467 - accuracy: 0.7320\n",
      "Epoch 7/20\n",
      "2571/2571 [==============================] - 3s 1ms/step - loss: 0.5459 - accuracy: 0.7346\n",
      "Epoch 8/20\n",
      "2571/2571 [==============================] - 4s 1ms/step - loss: 0.5455 - accuracy: 0.7360\n",
      "Epoch 9/20\n",
      "2571/2571 [==============================] - 4s 1ms/step - loss: 0.5445 - accuracy: 0.7358\n",
      "Epoch 10/20\n",
      "2571/2571 [==============================] - 4s 1ms/step - loss: 0.5440 - accuracy: 0.7355\n",
      "Epoch 11/20\n",
      "2571/2571 [==============================] - 3s 1ms/step - loss: 0.5438 - accuracy: 0.7340\n",
      "Epoch 12/20\n",
      "2571/2571 [==============================] - 4s 1ms/step - loss: 0.5430 - accuracy: 0.7361\n",
      "Epoch 13/20\n",
      "2571/2571 [==============================] - 4s 2ms/step - loss: 0.5426 - accuracy: 0.7355\n",
      "Epoch 14/20\n",
      "2571/2571 [==============================] - 4s 2ms/step - loss: 0.5423 - accuracy: 0.7364\n",
      "Epoch 15/20\n",
      "2571/2571 [==============================] - 4s 1ms/step - loss: 0.5422 - accuracy: 0.7357: 0s - loss:\n",
      "Epoch 16/20\n",
      "2571/2571 [==============================] - 4s 1ms/step - loss: 0.5413 - accuracy: 0.7365\n",
      "Epoch 17/20\n",
      "2571/2571 [==============================] - 4s 2ms/step - loss: 0.5412 - accuracy: 0.7358\n",
      "Epoch 18/20\n",
      "2571/2571 [==============================] - 3s 1ms/step - loss: 0.5404 - accuracy: 0.7376\n",
      "Epoch 19/20\n",
      "2571/2571 [==============================] - 3s 1ms/step - loss: 0.5403 - accuracy: 0.7375\n",
      "Epoch 20/20\n",
      "2571/2571 [==============================] - 3s 1ms/step - loss: 0.5402 - accuracy: 0.7361\n"
     ]
    }
   ],
   "source": [
    "nn.compile(loss='binary_crossentropy',optimizer=tf.keras.optimizers.Adam(learning_rate=0.001),metrics=['accuracy'])\n",
    "\n",
    "# Train the model\n",
    "#  YOUR CODE GOES HERE\n",
    "fit_model=nn.fit(X_train_scaled,y_train,batch_size=10,shuffle=True,epochs=20)"
   ]
  },
  {
   "cell_type": "code",
   "execution_count": 203,
   "id": "ea7f5799-b430-4c0c-8988-d22ec4d1bac0",
   "metadata": {},
   "outputs": [
    {
     "name": "stdout",
     "output_type": "stream",
     "text": [
      "268/268 - 0s - loss: 0.5516 - accuracy: 0.7290\n",
      "Loss: 0.5515775084495544, Accuracy: 0.7289599776268005\n"
     ]
    }
   ],
   "source": [
    "# Evaluate the model using the test data\n",
    "model_loss, model_accuracy = nn.evaluate(X_test_scaled,y_test,verbose=2)\n",
    "print(f\"Loss: {model_loss}, Accuracy: {model_accuracy}\")"
   ]
  },
  {
   "cell_type": "code",
   "execution_count": 204,
   "id": "36e6f05e-f0a3-485d-9f51-be6a317182bf",
   "metadata": {},
   "outputs": [],
   "source": [
    "from tensorflow import keras\n",
    "nn.save('AlphabetSoupCharity_Optimization1.h5')\n",
    "nn_model = keras.models.load_model('AlphabetSoupCharity_Optimization1.h5')"
   ]
  },
  {
   "cell_type": "markdown",
   "id": "5ffa3ea1-6ab2-4265-a692-90ee83003d77",
   "metadata": {},
   "source": [
    "### Attempt2 for model optimization "
   ]
  },
  {
   "cell_type": "code",
   "execution_count": 205,
   "id": "865bb3a9-99b6-4add-801e-43e54541be56",
   "metadata": {},
   "outputs": [
    {
     "name": "stdout",
     "output_type": "stream",
     "text": [
      "Model: \"sequential_2\"\n",
      "_________________________________________________________________\n",
      "Layer (type)                 Output Shape              Param #   \n",
      "=================================================================\n",
      "dense_10 (Dense)             (None, 37)                1406      \n",
      "_________________________________________________________________\n",
      "dense_11 (Dense)             (None, 37)                1406      \n",
      "_________________________________________________________________\n",
      "dense_12 (Dense)             (None, 37)                1406      \n",
      "_________________________________________________________________\n",
      "dense_13 (Dense)             (None, 1)                 38        \n",
      "=================================================================\n",
      "Total params: 4,256\n",
      "Trainable params: 4,256\n",
      "Non-trainable params: 0\n",
      "_________________________________________________________________\n"
     ]
    }
   ],
   "source": [
    "# Define the model - deep neural net, i.e., the number of input features and hidden nodes for each layer.\n",
    "#  YOUR CODE GOES HERE\n",
    "\n",
    "nn = tf.keras.models.Sequential()\n",
    "\n",
    "# First hidden layer\n",
    "#  YOUR CODE GOES HERE\n",
    "nn.add(tf.keras.layers.Dense(units=37,activation='relu',input_dim=37))\n",
    "# Second hidden layer\n",
    "#  YOUR CODE GOES HERE\n",
    "nn.add(tf.keras.layers.Dense(units=37,activation='relu'))\n",
    "nn.add(tf.keras.layers.Dense(units=37,activation='relu'))\n",
    "# Output layer\n",
    "#  YOUR CODE GOES HERE\n",
    "nn.add(tf.keras.layers.Dense(units=1,activation='sigmoid'))\n",
    "# Check the structure of the model\n",
    "nn.summary()"
   ]
  },
  {
   "cell_type": "code",
   "execution_count": 206,
   "id": "db4b8550-73f7-4501-a28e-efc8cc497c65",
   "metadata": {},
   "outputs": [
    {
     "name": "stdout",
     "output_type": "stream",
     "text": [
      "Epoch 1/25\n",
      "2571/2571 [==============================] - 4s 1ms/step - loss: 0.6159 - accuracy: 0.6824\n",
      "Epoch 2/25\n",
      "2571/2571 [==============================] - 3s 1ms/step - loss: 0.5786 - accuracy: 0.7190: \n",
      "Epoch 3/25\n",
      "2571/2571 [==============================] - 3s 1ms/step - loss: 0.5665 - accuracy: 0.7254\n",
      "Epoch 4/25\n",
      "2571/2571 [==============================] - 3s 1ms/step - loss: 0.5619 - accuracy: 0.7267\n",
      "Epoch 5/25\n",
      "2571/2571 [==============================] - 3s 1ms/step - loss: 0.5595 - accuracy: 0.7275\n",
      "Epoch 6/25\n",
      "2571/2571 [==============================] - 3s 1ms/step - loss: 0.5577 - accuracy: 0.7280\n",
      "Epoch 7/25\n",
      "2571/2571 [==============================] - 3s 1ms/step - loss: 0.5566 - accuracy: 0.7274\n",
      "Epoch 8/25\n",
      "2571/2571 [==============================] - 3s 1ms/step - loss: 0.5553 - accuracy: 0.7289\n",
      "Epoch 9/25\n",
      "2571/2571 [==============================] - 3s 1ms/step - loss: 0.5541 - accuracy: 0.7292\n",
      "Epoch 10/25\n",
      "2571/2571 [==============================] - 3s 1ms/step - loss: 0.5531 - accuracy: 0.7300\n",
      "Epoch 11/25\n",
      "2571/2571 [==============================] - 3s 1ms/step - loss: 0.5528 - accuracy: 0.7293\n",
      "Epoch 12/25\n",
      "2571/2571 [==============================] - 3s 1ms/step - loss: 0.5524 - accuracy: 0.7292: 0s - loss: 0.5529 \n",
      "Epoch 13/25\n",
      "2571/2571 [==============================] - 3s 1ms/step - loss: 0.5515 - accuracy: 0.7293\n",
      "Epoch 14/25\n",
      "2571/2571 [==============================] - 3s 1ms/step - loss: 0.5512 - accuracy: 0.7290\n",
      "Epoch 15/25\n",
      "2571/2571 [==============================] - 3s 1ms/step - loss: 0.5509 - accuracy: 0.7310\n",
      "Epoch 16/25\n",
      "2571/2571 [==============================] - 3s 1ms/step - loss: 0.5507 - accuracy: 0.7306\n",
      "Epoch 17/25\n",
      "2571/2571 [==============================] - 3s 1ms/step - loss: 0.5501 - accuracy: 0.7309\n",
      "Epoch 18/25\n",
      "2571/2571 [==============================] - 3s 1ms/step - loss: 0.5502 - accuracy: 0.7313\n",
      "Epoch 19/25\n",
      "2571/2571 [==============================] - 4s 1ms/step - loss: 0.5498 - accuracy: 0.7317\n",
      "Epoch 20/25\n",
      "2571/2571 [==============================] - 3s 1ms/step - loss: 0.5491 - accuracy: 0.7322\n",
      "Epoch 21/25\n",
      "2571/2571 [==============================] - 4s 1ms/step - loss: 0.5488 - accuracy: 0.7313\n",
      "Epoch 22/25\n",
      "2571/2571 [==============================] - 3s 1ms/step - loss: 0.5488 - accuracy: 0.7325\n",
      "Epoch 23/25\n",
      "2571/2571 [==============================] - 3s 1ms/step - loss: 0.5485 - accuracy: 0.7328\n",
      "Epoch 24/25\n",
      "2571/2571 [==============================] - 3s 1ms/step - loss: 0.5486 - accuracy: 0.7320\n",
      "Epoch 25/25\n",
      "2571/2571 [==============================] - 3s 1ms/step - loss: 0.5480 - accuracy: 0.7321\n"
     ]
    }
   ],
   "source": [
    "nn.compile(loss='binary_crossentropy',optimizer=tf.keras.optimizers.SGD(learning_rate=0.01),metrics=['accuracy'])\n",
    "\n",
    "# Train the model\n",
    "#  YOUR CODE GOES HERE\n",
    "fit_model=nn.fit(X_train_scaled,y_train,batch_size=10,shuffle=True,epochs=25)"
   ]
  },
  {
   "cell_type": "code",
   "execution_count": 207,
   "id": "a686681a-979e-4659-a347-7a5d92273827",
   "metadata": {},
   "outputs": [
    {
     "name": "stdout",
     "output_type": "stream",
     "text": [
      "268/268 - 0s - loss: 0.5648 - accuracy: 0.7270\n",
      "Loss: 0.5647709369659424, Accuracy: 0.7269756197929382\n"
     ]
    }
   ],
   "source": [
    "model_loss, model_accuracy = nn.evaluate(X_test_scaled,y_test,verbose=2)\n",
    "print(f\"Loss: {model_loss}, Accuracy: {model_accuracy}\")"
   ]
  },
  {
   "cell_type": "code",
   "execution_count": 208,
   "id": "2ca907dd-385b-41cf-87c2-4beec2251e5d",
   "metadata": {},
   "outputs": [],
   "source": [
    "from tensorflow import keras\n",
    "nn.save('AlphabetSoupCharity_Optimization2.h5')\n",
    "nn_model = keras.models.load_model('AlphabetSoupCharity_Optimization2.h5')"
   ]
  },
  {
   "cell_type": "markdown",
   "id": "20e698c7-8d94-49fe-9e36-2c97aedd1a7d",
   "metadata": {},
   "source": [
    "### Attempt3 for model optimization"
   ]
  },
  {
   "cell_type": "code",
   "execution_count": 234,
   "id": "a63a47a1-f53e-460e-a60a-482006d9a9cf",
   "metadata": {},
   "outputs": [
    {
     "name": "stdout",
     "output_type": "stream",
     "text": [
      "Model: \"sequential_1\"\n",
      "_________________________________________________________________\n",
      "Layer (type)                 Output Shape              Param #   \n",
      "=================================================================\n",
      "dense_3 (Dense)              (None, 37)                1406      \n",
      "_________________________________________________________________\n",
      "dense_4 (Dense)              (None, 37)                1406      \n",
      "_________________________________________________________________\n",
      "dense_5 (Dense)              (None, 1)                 38        \n",
      "=================================================================\n",
      "Total params: 2,850\n",
      "Trainable params: 2,850\n",
      "Non-trainable params: 0\n",
      "_________________________________________________________________\n"
     ]
    }
   ],
   "source": [
    "# Define the model - deep neural net, i.e., the number of input features and hidden nodes for each layer.\n",
    "#  YOUR CODE GOES HERE\n",
    "\n",
    "nn = tf.keras.models.Sequential()\n",
    "\n",
    "# First hidden layer\n",
    "#  YOUR CODE GOES HERE\n",
    "nn.add(tf.keras.layers.Dense(units=37,activation='relu',input_dim=37))\n",
    "# Second hidden layer\n",
    "#  YOUR CODE GOES HERE\n",
    "nn.add(tf.keras.layers.Dense(units=37,activation='relu'))\n",
    "\n",
    "# Output layer\n",
    "#  YOUR CODE GOES HERE\n",
    "nn.add(tf.keras.layers.Dense(units=1,activation='sigmoid'))\n",
    "# Check the structure of the model\n",
    "nn.summary()"
   ]
  },
  {
   "cell_type": "code",
   "execution_count": 235,
   "id": "d1f7b3d9-b252-4f5d-af54-feb079b7b6a0",
   "metadata": {},
   "outputs": [
    {
     "name": "stdout",
     "output_type": "stream",
     "text": [
      "Epoch 1/50\n",
      "2571/2571 [==============================] - 4s 1ms/step - loss: 0.6201 - accuracy: 0.6847\n",
      "Epoch 2/50\n",
      "2571/2571 [==============================] - 3s 1ms/step - loss: 0.5776 - accuracy: 0.7211\n",
      "Epoch 3/50\n",
      "2571/2571 [==============================] - 3s 1ms/step - loss: 0.5689 - accuracy: 0.7231\n",
      "Epoch 4/50\n",
      "2571/2571 [==============================] - 3s 1ms/step - loss: 0.5644 - accuracy: 0.7245: 0s - l\n",
      "Epoch 5/50\n",
      "2571/2571 [==============================] - 3s 1ms/step - loss: 0.5613 - accuracy: 0.7256\n",
      "Epoch 6/50\n",
      "2571/2571 [==============================] - 3s 1ms/step - loss: 0.5592 - accuracy: 0.7278\n",
      "Epoch 7/50\n",
      "2571/2571 [==============================] - 3s 982us/step - loss: 0.5575 - accuracy: 0.7281\n",
      "Epoch 8/50\n",
      "2571/2571 [==============================] - 3s 998us/step - loss: 0.5562 - accuracy: 0.7278\n",
      "Epoch 9/50\n",
      "2571/2571 [==============================] - 3s 995us/step - loss: 0.5551 - accuracy: 0.7295\n",
      "Epoch 10/50\n",
      "2571/2571 [==============================] - 3s 996us/step - loss: 0.5543 - accuracy: 0.7289\n",
      "Epoch 11/50\n",
      "2571/2571 [==============================] - 3s 992us/step - loss: 0.5535 - accuracy: 0.7303\n",
      "Epoch 12/50\n",
      "2571/2571 [==============================] - 3s 1ms/step - loss: 0.5529 - accuracy: 0.7294: 0s - loss: 0.5514 - ac\n",
      "Epoch 13/50\n",
      "2571/2571 [==============================] - 3s 992us/step - loss: 0.5525 - accuracy: 0.7305\n",
      "Epoch 14/50\n",
      "2571/2571 [==============================] - 3s 988us/step - loss: 0.5518 - accuracy: 0.7304\n",
      "Epoch 15/50\n",
      "2571/2571 [==============================] - 3s 990us/step - loss: 0.5514 - accuracy: 0.7300\n",
      "Epoch 16/50\n",
      "2571/2571 [==============================] - 3s 1ms/step - loss: 0.5510 - accuracy: 0.7306: 0s - loss: 0.5498 - ac\n",
      "Epoch 17/50\n",
      "2571/2571 [==============================] - 3s 1ms/step - loss: 0.5505 - accuracy: 0.7301\n",
      "Epoch 18/50\n",
      "2571/2571 [==============================] - 3s 1ms/step - loss: 0.5502 - accuracy: 0.7303\n",
      "Epoch 19/50\n",
      "2571/2571 [==============================] - 3s 1ms/step - loss: 0.5498 - accuracy: 0.7306\n",
      "Epoch 20/50\n",
      "2571/2571 [==============================] - 3s 1ms/step - loss: 0.5493 - accuracy: 0.7314\n",
      "Epoch 21/50\n",
      "2571/2571 [==============================] - 3s 1ms/step - loss: 0.5491 - accuracy: 0.7316\n",
      "Epoch 22/50\n",
      "2571/2571 [==============================] - 3s 1ms/step - loss: 0.5487 - accuracy: 0.7318\n",
      "Epoch 23/50\n",
      "2571/2571 [==============================] - 3s 1ms/step - loss: 0.5483 - accuracy: 0.7312\n",
      "Epoch 24/50\n",
      "2571/2571 [==============================] - 3s 1ms/step - loss: 0.5480 - accuracy: 0.7327\n",
      "Epoch 25/50\n",
      "2571/2571 [==============================] - 3s 1ms/step - loss: 0.5480 - accuracy: 0.7327\n",
      "Epoch 26/50\n",
      "2571/2571 [==============================] - 3s 1ms/step - loss: 0.5477 - accuracy: 0.7329\n",
      "Epoch 27/50\n",
      "2571/2571 [==============================] - 3s 1ms/step - loss: 0.5473 - accuracy: 0.7328\n",
      "Epoch 28/50\n",
      "2571/2571 [==============================] - 3s 1ms/step - loss: 0.5473 - accuracy: 0.7329\n",
      "Epoch 29/50\n",
      "2571/2571 [==============================] - 3s 1ms/step - loss: 0.5468 - accuracy: 0.7331\n",
      "Epoch 30/50\n",
      "2571/2571 [==============================] - 3s 1ms/step - loss: 0.5466 - accuracy: 0.7338\n",
      "Epoch 31/50\n",
      "2571/2571 [==============================] - 3s 1ms/step - loss: 0.5465 - accuracy: 0.7338\n",
      "Epoch 32/50\n",
      "2571/2571 [==============================] - 3s 1ms/step - loss: 0.5464 - accuracy: 0.7334\n",
      "Epoch 33/50\n",
      "2571/2571 [==============================] - 3s 1ms/step - loss: 0.5462 - accuracy: 0.7329\n",
      "Epoch 34/50\n",
      "2571/2571 [==============================] - 3s 1ms/step - loss: 0.5460 - accuracy: 0.7336\n",
      "Epoch 35/50\n",
      "2571/2571 [==============================] - 3s 1ms/step - loss: 0.5459 - accuracy: 0.7341\n",
      "Epoch 36/50\n",
      "2571/2571 [==============================] - 3s 1ms/step - loss: 0.5456 - accuracy: 0.7339\n",
      "Epoch 37/50\n",
      "2571/2571 [==============================] - 3s 1ms/step - loss: 0.5454 - accuracy: 0.7334\n",
      "Epoch 38/50\n",
      "2571/2571 [==============================] - 3s 1ms/step - loss: 0.5454 - accuracy: 0.7332\n",
      "Epoch 39/50\n",
      "2571/2571 [==============================] - 3s 1ms/step - loss: 0.5451 - accuracy: 0.7341\n",
      "Epoch 40/50\n",
      "2571/2571 [==============================] - 3s 1ms/step - loss: 0.5452 - accuracy: 0.7345\n",
      "Epoch 41/50\n",
      "2571/2571 [==============================] - 3s 1ms/step - loss: 0.5451 - accuracy: 0.7337\n",
      "Epoch 42/50\n",
      "2571/2571 [==============================] - 3s 1ms/step - loss: 0.5448 - accuracy: 0.7343\n",
      "Epoch 43/50\n",
      "2571/2571 [==============================] - 3s 1ms/step - loss: 0.5447 - accuracy: 0.7345\n",
      "Epoch 44/50\n",
      "2571/2571 [==============================] - 3s 1ms/step - loss: 0.5447 - accuracy: 0.7338\n",
      "Epoch 45/50\n",
      "2571/2571 [==============================] - 3s 1ms/step - loss: 0.5445 - accuracy: 0.7345\n",
      "Epoch 46/50\n",
      "2571/2571 [==============================] - 3s 1ms/step - loss: 0.5444 - accuracy: 0.7346\n",
      "Epoch 47/50\n",
      "2571/2571 [==============================] - 3s 1ms/step - loss: 0.5443 - accuracy: 0.7346\n",
      "Epoch 48/50\n",
      "2571/2571 [==============================] - 3s 1ms/step - loss: 0.5441 - accuracy: 0.7344\n",
      "Epoch 49/50\n",
      "2571/2571 [==============================] - 3s 1ms/step - loss: 0.5441 - accuracy: 0.7344\n",
      "Epoch 50/50\n",
      "2571/2571 [==============================] - 3s 1ms/step - loss: 0.5439 - accuracy: 0.7341\n"
     ]
    }
   ],
   "source": [
    "nn.compile(loss='binary_crossentropy',optimizer=tf.keras.optimizers.Adam(learning_rate=0.0001),metrics=['accuracy'])\n",
    "\n",
    "# Train the model\n",
    "#  YOUR CODE GOES HERE\n",
    "fit_model=nn.fit(X_train_scaled,y_train,batch_size=10,shuffle=True,epochs=50)"
   ]
  },
  {
   "cell_type": "code",
   "execution_count": 236,
   "id": "d4ccec77-ddd4-43d3-bd27-7658ed2b65cf",
   "metadata": {},
   "outputs": [
    {
     "name": "stdout",
     "output_type": "stream",
     "text": [
      "268/268 - 0s - loss: 0.5499 - accuracy: 0.7292\n",
      "Loss: 0.5499257445335388, Accuracy: 0.729193389415741\n"
     ]
    }
   ],
   "source": [
    "model_loss, model_accuracy = nn.evaluate(X_test_scaled,y_test,verbose=2)\n",
    "print(f\"Loss: {model_loss}, Accuracy: {model_accuracy}\")"
   ]
  },
  {
   "cell_type": "code",
   "execution_count": 237,
   "id": "97b509c4-d7fc-411a-bab9-f896d593f208",
   "metadata": {},
   "outputs": [],
   "source": [
    "from tensorflow import keras\n",
    "nn.save('AlphabetSoupCharity_Optimization3.h5')\n",
    "nn_model = keras.models.load_model('AlphabetSoupCharity_Optimization3.h5')"
   ]
  },
  {
   "cell_type": "markdown",
   "id": "f8a894c2-c806-4d73-87e3-9bff319f43d3",
   "metadata": {},
   "source": [
    "### Trying to search Best hyperparameters using Keras Tuner"
   ]
  },
  {
   "cell_type": "code",
   "execution_count": 238,
   "id": "c61946b1-a455-4f66-9960-8f856bd16b68",
   "metadata": {
    "tags": []
   },
   "outputs": [],
   "source": [
    "# Create a method that creates a new Sequential model with hyperparameter options\n",
    "def create_model(hp):\n",
    "    nn = tf.keras.models.Sequential()\n",
    "\n",
    "    # Allow kerastuner to decide which activation function to use in hidden layers\n",
    "    activation = hp.Choice('activation',['relu','tanh'])\n",
    "    \n",
    "    # Allow kerastuner to decide number of neurons in first layer\n",
    "    nn.add(tf.keras.layers.Dense(units=hp.Int('first_units',\n",
    "        min_value=20,\n",
    "        max_value=50,\n",
    "        step=5), activation=activation, input_dim=37))\n",
    "\n",
    "    # Allow kerastuner to decide number of hidden layers and neurons in hidden layers\n",
    "    for i in range(hp.Int('num_layers', 1, 4)):\n",
    "        nn.add(tf.keras.layers.Dense(units=hp.Int('units_' + str(i),\n",
    "            min_value=20,\n",
    "            max_value=50,\n",
    "            step=5),\n",
    "            activation=activation))\n",
    "    \n",
    "    nn.add(tf.keras.layers.Dense(units=1, activation=\"sigmoid\"))\n",
    "\n",
    "    # Compile the model\n",
    "    nn.compile(loss=\"binary_crossentropy\", optimizer=tf.keras.optimizers.Adam(learning_rate=0.0001), metrics=[\"accuracy\"])\n",
    "    \n",
    "    return nn"
   ]
  },
  {
   "cell_type": "code",
   "execution_count": 239,
   "id": "d48813d3-4c06-40f3-bcee-e8f8c599d783",
   "metadata": {},
   "outputs": [
    {
     "name": "stdout",
     "output_type": "stream",
     "text": [
      "INFO:tensorflow:Reloading Oracle from existing project ./untitled_project/oracle.json\n",
      "INFO:tensorflow:Reloading Tuner from ./untitled_project/tuner0.json\n"
     ]
    }
   ],
   "source": [
    "# Import the kerastuner library\n",
    "import keras_tuner as kt\n",
    "\n",
    "tuner = kt.Hyperband(\n",
    "    create_model,\n",
    "    objective=\"val_accuracy\",\n",
    "    max_epochs=20,\n",
    "    hyperband_iterations=2)"
   ]
  },
  {
   "cell_type": "code",
   "execution_count": 240,
   "id": "340316ea-1652-40e2-bb2e-8b9b12c23811",
   "metadata": {},
   "outputs": [
    {
     "name": "stdout",
     "output_type": "stream",
     "text": [
      "INFO:tensorflow:Oracle triggered exit\n"
     ]
    }
   ],
   "source": [
    "# Run the kerastuner search for best hyperparameters\n",
    "tuner.search(X_train_scaled,y_train,epochs=20,validation_data=(X_test_scaled,y_test))"
   ]
  },
  {
   "cell_type": "code",
   "execution_count": 241,
   "id": "c2633e99-a2a8-478c-b02d-a8bf5e0c4485",
   "metadata": {},
   "outputs": [
    {
     "name": "stdout",
     "output_type": "stream",
     "text": [
      "{'activation': 'tanh', 'first_units': 30, 'num_layers': 2, 'units_0': 1, 'units_1': 1, 'units_2': 11, 'units_3': 16, 'units_4': 6, 'tuner/epochs': 3, 'tuner/initial_epoch': 0, 'tuner/bracket': 2, 'tuner/round': 0}\n",
      "{'activation': 'tanh', 'first_units': 40, 'num_layers': 5, 'units_0': 1, 'units_1': 26, 'units_2': 6, 'units_3': 1, 'units_4': 26, 'tuner/epochs': 20, 'tuner/initial_epoch': 7, 'tuner/bracket': 1, 'tuner/round': 1, 'tuner/trial_id': '446571cedf74f6f033ce6064b12fd4b8'}\n",
      "{'activation': 'tanh', 'first_units': 20, 'num_layers': 4, 'units_0': 26, 'units_1': 21, 'units_2': 21, 'units_3': 6, 'units_4': 16, 'tuner/epochs': 20, 'tuner/initial_epoch': 7, 'tuner/bracket': 1, 'tuner/round': 1, 'tuner/trial_id': 'e9cbb084b1d13547d4efad7931a89d75'}\n"
     ]
    }
   ],
   "source": [
    "# Get top 3 model hyperparameters and print the values\n",
    "top_hyper = tuner.get_best_hyperparameters(3)\n",
    "for param in top_hyper:\n",
    "    print(param.values)"
   ]
  },
  {
   "cell_type": "code",
   "execution_count": 242,
   "id": "a5b12e9a-b5e1-40f4-af8b-2ea63500f22c",
   "metadata": {},
   "outputs": [
    {
     "name": "stdout",
     "output_type": "stream",
     "text": [
      "268/268 - 0s - loss: 0.6307 - accuracy: 0.6481\n",
      "Loss: 0.6306948661804199, Accuracy: 0.6480681896209717\n",
      "268/268 - 0s - loss: 0.6041 - accuracy: 0.7141\n",
      "Loss: 0.6041010022163391, Accuracy: 0.7141356468200684\n",
      "268/268 - 0s - loss: 0.6836 - accuracy: 0.5874\n",
      "Loss: 0.6835787892341614, Accuracy: 0.5873701572418213\n"
     ]
    }
   ],
   "source": [
    "# Evaluate the top 3 models against the test dataset\n",
    "top_model = tuner.get_best_models(3)\n",
    "for model in top_model:\n",
    "    model_loss, model_accuracy = model.evaluate(X_test_scaled,y_test,verbose=2)\n",
    "    print(f\"Loss: {model_loss}, Accuracy: {model_accuracy}\")"
   ]
  },
  {
   "cell_type": "code",
   "execution_count": null,
   "id": "a8744020-e885-44d2-b69d-d0da5a8e0522",
   "metadata": {},
   "outputs": [],
   "source": []
  }
 ],
 "metadata": {
  "kernelspec": {
   "display_name": "Python 3",
   "language": "python",
   "name": "python3"
  },
  "language_info": {
   "codemirror_mode": {
    "name": "ipython",
    "version": 3
   },
   "file_extension": ".py",
   "mimetype": "text/x-python",
   "name": "python",
   "nbconvert_exporter": "python",
   "pygments_lexer": "ipython3",
   "version": "3.6.13"
  }
 },
 "nbformat": 4,
 "nbformat_minor": 5
}
