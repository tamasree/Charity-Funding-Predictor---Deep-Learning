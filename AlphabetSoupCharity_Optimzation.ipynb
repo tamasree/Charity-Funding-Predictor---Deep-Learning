{
 "cells": [
  {
   "cell_type": "code",
   "execution_count": 29,
   "id": "82f0ff49-e876-46fa-9b1b-7b77e87d95f3",
   "metadata": {},
   "outputs": [
    {
     "data": {
      "text/html": [
       "<div>\n",
       "<style scoped>\n",
       "    .dataframe tbody tr th:only-of-type {\n",
       "        vertical-align: middle;\n",
       "    }\n",
       "\n",
       "    .dataframe tbody tr th {\n",
       "        vertical-align: top;\n",
       "    }\n",
       "\n",
       "    .dataframe thead th {\n",
       "        text-align: right;\n",
       "    }\n",
       "</style>\n",
       "<table border=\"1\" class=\"dataframe\">\n",
       "  <thead>\n",
       "    <tr style=\"text-align: right;\">\n",
       "      <th></th>\n",
       "      <th>EIN</th>\n",
       "      <th>NAME</th>\n",
       "      <th>APPLICATION_TYPE</th>\n",
       "      <th>AFFILIATION</th>\n",
       "      <th>CLASSIFICATION</th>\n",
       "      <th>USE_CASE</th>\n",
       "      <th>ORGANIZATION</th>\n",
       "      <th>STATUS</th>\n",
       "      <th>INCOME_AMT</th>\n",
       "      <th>SPECIAL_CONSIDERATIONS</th>\n",
       "      <th>ASK_AMT</th>\n",
       "      <th>IS_SUCCESSFUL</th>\n",
       "    </tr>\n",
       "  </thead>\n",
       "  <tbody>\n",
       "    <tr>\n",
       "      <th>0</th>\n",
       "      <td>10520599</td>\n",
       "      <td>BLUE KNIGHTS MOTORCYCLE CLUB</td>\n",
       "      <td>T10</td>\n",
       "      <td>Independent</td>\n",
       "      <td>C1000</td>\n",
       "      <td>ProductDev</td>\n",
       "      <td>Association</td>\n",
       "      <td>1</td>\n",
       "      <td>0</td>\n",
       "      <td>N</td>\n",
       "      <td>5000</td>\n",
       "      <td>1</td>\n",
       "    </tr>\n",
       "    <tr>\n",
       "      <th>1</th>\n",
       "      <td>10531628</td>\n",
       "      <td>AMERICAN CHESAPEAKE CLUB CHARITABLE TR</td>\n",
       "      <td>T3</td>\n",
       "      <td>Independent</td>\n",
       "      <td>C2000</td>\n",
       "      <td>Preservation</td>\n",
       "      <td>Co-operative</td>\n",
       "      <td>1</td>\n",
       "      <td>1-9999</td>\n",
       "      <td>N</td>\n",
       "      <td>108590</td>\n",
       "      <td>1</td>\n",
       "    </tr>\n",
       "    <tr>\n",
       "      <th>2</th>\n",
       "      <td>10547893</td>\n",
       "      <td>ST CLOUD PROFESSIONAL FIREFIGHTERS</td>\n",
       "      <td>T5</td>\n",
       "      <td>CompanySponsored</td>\n",
       "      <td>C3000</td>\n",
       "      <td>ProductDev</td>\n",
       "      <td>Association</td>\n",
       "      <td>1</td>\n",
       "      <td>0</td>\n",
       "      <td>N</td>\n",
       "      <td>5000</td>\n",
       "      <td>0</td>\n",
       "    </tr>\n",
       "    <tr>\n",
       "      <th>3</th>\n",
       "      <td>10553066</td>\n",
       "      <td>SOUTHSIDE ATHLETIC ASSOCIATION</td>\n",
       "      <td>T3</td>\n",
       "      <td>CompanySponsored</td>\n",
       "      <td>C2000</td>\n",
       "      <td>Preservation</td>\n",
       "      <td>Trust</td>\n",
       "      <td>1</td>\n",
       "      <td>10000-24999</td>\n",
       "      <td>N</td>\n",
       "      <td>6692</td>\n",
       "      <td>1</td>\n",
       "    </tr>\n",
       "    <tr>\n",
       "      <th>4</th>\n",
       "      <td>10556103</td>\n",
       "      <td>GENETIC RESEARCH INSTITUTE OF THE DESERT</td>\n",
       "      <td>T3</td>\n",
       "      <td>Independent</td>\n",
       "      <td>C1000</td>\n",
       "      <td>Heathcare</td>\n",
       "      <td>Trust</td>\n",
       "      <td>1</td>\n",
       "      <td>100000-499999</td>\n",
       "      <td>N</td>\n",
       "      <td>142590</td>\n",
       "      <td>1</td>\n",
       "    </tr>\n",
       "  </tbody>\n",
       "</table>\n",
       "</div>"
      ],
      "text/plain": [
       "        EIN                                      NAME APPLICATION_TYPE  \\\n",
       "0  10520599              BLUE KNIGHTS MOTORCYCLE CLUB              T10   \n",
       "1  10531628    AMERICAN CHESAPEAKE CLUB CHARITABLE TR               T3   \n",
       "2  10547893        ST CLOUD PROFESSIONAL FIREFIGHTERS               T5   \n",
       "3  10553066            SOUTHSIDE ATHLETIC ASSOCIATION               T3   \n",
       "4  10556103  GENETIC RESEARCH INSTITUTE OF THE DESERT               T3   \n",
       "\n",
       "        AFFILIATION CLASSIFICATION      USE_CASE  ORGANIZATION  STATUS  \\\n",
       "0       Independent          C1000    ProductDev   Association       1   \n",
       "1       Independent          C2000  Preservation  Co-operative       1   \n",
       "2  CompanySponsored          C3000    ProductDev   Association       1   \n",
       "3  CompanySponsored          C2000  Preservation         Trust       1   \n",
       "4       Independent          C1000     Heathcare         Trust       1   \n",
       "\n",
       "      INCOME_AMT SPECIAL_CONSIDERATIONS  ASK_AMT  IS_SUCCESSFUL  \n",
       "0              0                      N     5000              1  \n",
       "1         1-9999                      N   108590              1  \n",
       "2              0                      N     5000              0  \n",
       "3    10000-24999                      N     6692              1  \n",
       "4  100000-499999                      N   142590              1  "
      ]
     },
     "execution_count": 29,
     "metadata": {},
     "output_type": "execute_result"
    }
   ],
   "source": [
    "# Import our dependencies\n",
    "from sklearn.model_selection import train_test_split\n",
    "from sklearn.preprocessing import StandardScaler,MinMaxScaler\n",
    "import pandas as pd\n",
    "import tensorflow as tf\n",
    "\n",
    "#  Import and read the charity_data.csv.\n",
    "import pandas as pd \n",
    "application_df = pd.read_csv(\"Resources/charity_data.csv\")\n",
    "application_df.head()"
   ]
  },
  {
   "cell_type": "code",
   "execution_count": 30,
   "id": "f05bfba0-4f92-4cd1-90c4-b05e9559658e",
   "metadata": {},
   "outputs": [
    {
     "data": {
      "text/plain": [
       "(34299, 12)"
      ]
     },
     "execution_count": 30,
     "metadata": {},
     "output_type": "execute_result"
    }
   ],
   "source": [
    "application_df.shape"
   ]
  },
  {
   "cell_type": "code",
   "execution_count": 31,
   "id": "49d5f0bf-03da-4a52-a28b-b72e3b6fa861",
   "metadata": {},
   "outputs": [
    {
     "data": {
      "text/plain": [
       "T3       27037\n",
       "T4        1542\n",
       "T6        1216\n",
       "T5        1173\n",
       "T19       1065\n",
       "T8         737\n",
       "T7         725\n",
       "T10        528\n",
       "Other      276\n",
       "Name: APPLICATION_TYPE, dtype: int64"
      ]
     },
     "execution_count": 31,
     "metadata": {},
     "output_type": "execute_result"
    }
   ],
   "source": [
    "application_df=application_df.drop(['EIN','NAME'],axis=1)\n",
    "\n",
    "application_types_to_replace=['T9','T13','T12','T2','T14','T25','T15','T29','T17']\n",
    "\n",
    "for app in application_types_to_replace:\n",
    "    application_df['APPLICATION_TYPE'] = application_df['APPLICATION_TYPE'].replace(app,\"Other\")\n",
    "    \n",
    "application_df['APPLICATION_TYPE'].value_counts()"
   ]
  },
  {
   "cell_type": "code",
   "execution_count": 32,
   "id": "6a881bf4-d067-491c-8a06-17c0a0b5df4d",
   "metadata": {},
   "outputs": [
    {
     "data": {
      "text/plain": [
       "C1000    17326\n",
       "C2000     6074\n",
       "C1200     4837\n",
       "C3000     1918\n",
       "C2100     1883\n",
       "C7000      777\n",
       "C1700      287\n",
       "C4000      194\n",
       "C5000      116\n",
       "C1270      114\n",
       "C2700      104\n",
       "C2800       95\n",
       "C7100       75\n",
       "C1300       58\n",
       "C1280       50\n",
       "C1230       36\n",
       "C1400       34\n",
       "C7200       32\n",
       "C2300       32\n",
       "C1240       30\n",
       "C8000       20\n",
       "C7120       18\n",
       "C1500       16\n",
       "C1800       15\n",
       "C6000       15\n",
       "C1250       14\n",
       "C8200       11\n",
       "C1278       10\n",
       "C1238       10\n",
       "C1235        9\n",
       "C1237        9\n",
       "C7210        7\n",
       "C2400        6\n",
       "C1720        6\n",
       "C4100        6\n",
       "C1257        5\n",
       "C1600        5\n",
       "C1260        3\n",
       "C2710        3\n",
       "C0           3\n",
       "C1234        2\n",
       "C1256        2\n",
       "C1246        2\n",
       "C1267        2\n",
       "C3200        2\n",
       "Name: CLASSIFICATION, dtype: int64"
      ]
     },
     "execution_count": 32,
     "metadata": {},
     "output_type": "execute_result"
    }
   ],
   "source": [
    "application_df=application_df.groupby('CLASSIFICATION').filter(lambda x: len(x) > 1)\n",
    "application_df['CLASSIFICATION'].value_counts()\n"
   ]
  },
  {
   "cell_type": "code",
   "execution_count": 33,
   "id": "1da762ed-e03c-4f4e-8b8e-011d1fda9a45",
   "metadata": {},
   "outputs": [
    {
     "data": {
      "text/plain": [
       "C1000    17326\n",
       "C2000     6074\n",
       "C1200     4837\n",
       "C3000     1918\n",
       "C2100     1883\n",
       "Other     1458\n",
       "C7000      777\n",
       "Name: CLASSIFICATION, dtype: int64"
      ]
     },
     "execution_count": 33,
     "metadata": {},
     "output_type": "execute_result"
    }
   ],
   "source": [
    "classification_dict=application_df['CLASSIFICATION'].value_counts().to_dict()\n",
    "\n",
    "classifications_to_replace=[]\n",
    "\n",
    "for key, value in classification_dict.items():\n",
    "    if value <500:\n",
    "        classifications_to_replace.append(key)\n",
    "        \n",
    "# Choose a cutoff value and create a list of classifications to be replaced\n",
    "# use the variable name `classifications_to_replace`\n",
    "#  YOUR CODE GOES HERE\n",
    "\n",
    "# Replace in dataframe\n",
    "\n",
    "for cls in classifications_to_replace:\n",
    "    application_df['CLASSIFICATION'] = application_df['CLASSIFICATION'].replace(cls,\"Other\")\n",
    "    \n",
    "# Check to make sure binning was successful\n",
    "application_df['CLASSIFICATION'].value_counts()"
   ]
  },
  {
   "cell_type": "code",
   "execution_count": 34,
   "id": "53bdc200-f9eb-4e1b-a089-d7b902941941",
   "metadata": {},
   "outputs": [
    {
     "data": {
      "text/plain": [
       "APPLICATION_TYPE          object\n",
       "AFFILIATION               object\n",
       "CLASSIFICATION            object\n",
       "USE_CASE                  object\n",
       "ORGANIZATION              object\n",
       "STATUS                     int64\n",
       "INCOME_AMT                object\n",
       "SPECIAL_CONSIDERATIONS    object\n",
       "ASK_AMT                    int64\n",
       "IS_SUCCESSFUL              int64\n",
       "dtype: object"
      ]
     },
     "execution_count": 34,
     "metadata": {},
     "output_type": "execute_result"
    }
   ],
   "source": [
    "application_df.dtypes"
   ]
  },
  {
   "cell_type": "code",
   "execution_count": 35,
   "id": "8bf7aedb-e972-4c7a-8d61-a169caae0a5b",
   "metadata": {},
   "outputs": [
    {
     "data": {
      "text/plain": [
       "1    34268\n",
       "0        5\n",
       "Name: STATUS, dtype: int64"
      ]
     },
     "execution_count": 35,
     "metadata": {},
     "output_type": "execute_result"
    }
   ],
   "source": [
    "application_df['STATUS'].value_counts()\n"
   ]
  },
  {
   "cell_type": "code",
   "execution_count": 36,
   "id": "3e3a35fc-e9e2-414e-9f20-aa3a646465c3",
   "metadata": {},
   "outputs": [],
   "source": [
    "# dropping rows with active status 0\n",
    "application_df=application_df.loc[application_df['STATUS']==1,:]\n"
   ]
  },
  {
   "cell_type": "code",
   "execution_count": 37,
   "id": "002eee7b-0a55-4b7b-8438-3e3234fc9c7a",
   "metadata": {},
   "outputs": [
    {
     "data": {
      "text/plain": [
       "<AxesSubplot:>"
      ]
     },
     "execution_count": 37,
     "metadata": {},
     "output_type": "execute_result"
    },
    {
     "data": {
      "image/png": "[encoded data removed]",
      "text/plain": [
       "<Figure size 432x288 with 1 Axes>"
      ]
     },
     "metadata": {
      "needs_background": "light"
     },
     "output_type": "display_data"
    }
   ],
   "source": [
    "# checking for outliers in cols\n",
    "\n",
    "import matplotlib.pyplot as plt\n",
    "application_df.boxplot(column=['ASK_AMT'])"
   ]
  },
  {
   "cell_type": "code",
   "execution_count": 38,
   "id": "6a53ad28-c6a1-49ea-a88f-4695cf18488c",
   "metadata": {},
   "outputs": [
    {
     "name": "stdout",
     "output_type": "stream",
     "text": [
      "max_ASK_AMT : 8597806340\n",
      "min_ASK_AMT : 5000\n"
     ]
    }
   ],
   "source": [
    "max_ASK_AMT=application_df['ASK_AMT'].max()\n",
    "min_ASK_AMT=application_df['ASK_AMT'].min()\n",
    "\n",
    "print (f'max_ASK_AMT : {max_ASK_AMT}')\n",
    "print (f'min_ASK_AMT : {min_ASK_AMT}')"
   ]
  },
  {
   "cell_type": "code",
   "execution_count": 39,
   "id": "2f9eaf54-07c8-4aa7-8074-2cb921a7f9b1",
   "metadata": {},
   "outputs": [],
   "source": [
    "import numpy as np\n",
    "quartiles=np.quantile(application_df['ASK_AMT'],[.25,.75])\n",
    "iqr=quartiles[1]-quartiles[0]\n",
    "lower_band=quartiles[0]-1.5*iqr\n",
    "upper_band=quartiles[1]+ 1.5*iqr\n",
    "\n",
    "#dropping outliers\n",
    "filt=(application_df['ASK_AMT']<=upper_band)| (application_df['ASK_AMT']>=lower_band)\n",
    "application_df=application_df.loc[filt,:]"
   ]
  },
  {
   "cell_type": "code",
   "execution_count": 40,
   "id": "1898ca56-32a4-4abe-bc05-a8191a6bab81",
   "metadata": {},
   "outputs": [
    {
     "data": {
      "text/plain": [
       "(34268, 10)"
      ]
     },
     "execution_count": 40,
     "metadata": {},
     "output_type": "execute_result"
    }
   ],
   "source": [
    "application_df.shape"
   ]
  },
  {
   "cell_type": "code",
   "execution_count": 41,
   "id": "6046a4fe-7ec6-45e8-b461-5cf5e08038af",
   "metadata": {},
   "outputs": [
    {
     "data": {
      "text/plain": [
       "Index(['STATUS', 'ASK_AMT', 'IS_SUCCESSFUL', 'APPLICATION_TYPE_T10',\n",
       "       'APPLICATION_TYPE_T19', 'APPLICATION_TYPE_T3', 'APPLICATION_TYPE_T4',\n",
       "       'APPLICATION_TYPE_T5', 'APPLICATION_TYPE_T6', 'APPLICATION_TYPE_T7',\n",
       "       'APPLICATION_TYPE_T8', 'AFFILIATION_Family/Parent',\n",
       "       'AFFILIATION_Independent', 'AFFILIATION_National', 'AFFILIATION_Other',\n",
       "       'AFFILIATION_Regional', 'CLASSIFICATION_C1200', 'CLASSIFICATION_C2000',\n",
       "       'CLASSIFICATION_C2100', 'CLASSIFICATION_C3000', 'CLASSIFICATION_C7000',\n",
       "       'CLASSIFICATION_Other', 'USE_CASE_Heathcare', 'USE_CASE_Other',\n",
       "       'USE_CASE_Preservation', 'USE_CASE_ProductDev',\n",
       "       'ORGANIZATION_Co-operative', 'ORGANIZATION_Corporation',\n",
       "       'ORGANIZATION_Trust', 'INCOME_AMT_1-9999', 'INCOME_AMT_10000-24999',\n",
       "       'INCOME_AMT_100000-499999', 'INCOME_AMT_10M-50M', 'INCOME_AMT_1M-5M',\n",
       "       'INCOME_AMT_25000-99999', 'INCOME_AMT_50M+', 'INCOME_AMT_5M-10M',\n",
       "       'SPECIAL_CONSIDERATIONS_Y'],\n",
       "      dtype='object')"
      ]
     },
     "execution_count": 41,
     "metadata": {},
     "output_type": "execute_result"
    }
   ],
   "source": [
    "# Convert categorical data to numeric with `pd.get_dummies`\n",
    "#  YOUR CODE GOES HERE\n",
    "application_df_encoded =pd.get_dummies(application_df, drop_first=True)\n",
    "application_df_encoded.columns"
   ]
  },
  {
   "cell_type": "code",
   "execution_count": 42,
   "id": "513825b0-4db3-41b3-827d-272016745ee9",
   "metadata": {},
   "outputs": [
    {
     "data": {
      "text/plain": [
       "(34268, 38)"
      ]
     },
     "execution_count": 42,
     "metadata": {},
     "output_type": "execute_result"
    }
   ],
   "source": [
    "application_df_encoded.shape"
   ]
  },
  {
   "cell_type": "code",
   "execution_count": 43,
   "id": "250058d2-1217-48cc-ada6-93a421b2bdde",
   "metadata": {},
   "outputs": [],
   "source": [
    "X=application_df_encoded.drop(['IS_SUCCESSFUL'],axis=1)\n",
    "y=application_df_encoded['IS_SUCCESSFUL']"
   ]
  },
  {
   "cell_type": "code",
   "execution_count": 44,
   "id": "a8bc72dd-49eb-4daa-b3a8-89396a53cc92",
   "metadata": {},
   "outputs": [
    {
     "data": {
      "text/plain": [
       "(34268, 37)"
      ]
     },
     "execution_count": 44,
     "metadata": {},
     "output_type": "execute_result"
    }
   ],
   "source": [
    "X.shape"
   ]
  },
  {
   "cell_type": "code",
   "execution_count": 45,
   "id": "0f9a982a-fc05-49e0-87e7-0ba476030ad4",
   "metadata": {},
   "outputs": [],
   "source": [
    "# Split the preprocessed data into a training and testing dataset\n",
    "#  YOUR CODE GOES HERE\n",
    "X_train,X_test,y_train,y_test=train_test_split(X,y)"
   ]
  },
  {
   "cell_type": "code",
   "execution_count": 46,
   "id": "67baf9d1-f6fe-4429-93af-82940a00fc88",
   "metadata": {},
   "outputs": [],
   "source": [
    "# Create a StandardScaler instances\n",
    "scaler = MinMaxScaler()\n",
    "\n",
    "# Fit the StandardScaler\n",
    "X_scaler = scaler.fit(X_train)\n",
    "\n",
    "# Scale the data\n",
    "X_train_scaled = X_scaler.transform(X_train)\n",
    "X_test_scaled = X_scaler.transform(X_test)"
   ]
  },
  {
   "cell_type": "markdown",
   "id": "e5ef9d19-cc61-4203-9231-602c78debb7f",
   "metadata": {},
   "source": [
    "### Attempt 1 for optimization selecting different hyperparameters\n"
   ]
  },
  {
   "cell_type": "code",
   "execution_count": 49,
   "id": "882774a0-9bc5-47b4-b542-1cf9d1847ea1",
   "metadata": {},
   "outputs": [
    {
     "name": "stdout",
     "output_type": "stream",
     "text": [
      "Model: \"sequential_4\"\n",
      "_________________________________________________________________\n",
      "Layer (type)                 Output Shape              Param #   \n",
      "=================================================================\n",
      "dense_16 (Dense)             (None, 25)                950       \n",
      "_________________________________________________________________\n",
      "dense_17 (Dense)             (None, 17)                442       \n",
      "_________________________________________________________________\n",
      "dense_18 (Dense)             (None, 12)                216       \n",
      "_________________________________________________________________\n",
      "dense_19 (Dense)             (None, 1)                 13        \n",
      "=================================================================\n",
      "Total params: 1,621\n",
      "Trainable params: 1,621\n",
      "Non-trainable params: 0\n",
      "_________________________________________________________________\n"
     ]
    }
   ],
   "source": [
    "# Define the model - deep neural net, i.e., the number of input features and hidden nodes for each layer.\n",
    "#  YOUR CODE GOES HERE\n",
    "\n",
    "nn = tf.keras.models.Sequential()\n",
    "\n",
    "# First hidden layer\n",
    "#  YOUR CODE GOES HERE\n",
    "nn.add(tf.keras.layers.Dense(units=25,activation='relu',input_dim=37))\n",
    "# Second hidden layer\n",
    "#  YOUR CODE GOES HERE\n",
    "nn.add(tf.keras.layers.Dense(units=17,activation='relu'))\n",
    "nn.add(tf.keras.layers.Dense(units=12,activation='tanh'))\n",
    "# Output layer\n",
    "#  YOUR CODE GOES HERE\n",
    "nn.add(tf.keras.layers.Dense(units=1,activation='sigmoid'))\n",
    "# Check the structure of the model\n",
    "nn.summary()"
   ]
  },
  {
   "cell_type": "code",
   "execution_count": 50,
   "id": "e5be8be8-2c42-4656-8c8f-113e30e3056d",
   "metadata": {},
   "outputs": [
    {
     "name": "stdout",
     "output_type": "stream",
     "text": [
      "Epoch 1/50\n",
      "2571/2571 [==============================] - 5s 2ms/step - loss: 0.5744 - accuracy: 0.7151\n",
      "Epoch 2/50\n",
      "2571/2571 [==============================] - 4s 2ms/step - loss: 0.5553 - accuracy: 0.7285: 1s - l - ETA: 0s - l\n",
      "Epoch 3/50\n",
      "2571/2571 [==============================] - 4s 1ms/step - loss: 0.5520 - accuracy: 0.7300\n",
      "Epoch 4/50\n",
      "2571/2571 [==============================] - 3s 1ms/step - loss: 0.5501 - accuracy: 0.7319\n",
      "Epoch 5/50\n",
      "2571/2571 [==============================] - 3s 1ms/step - loss: 0.5487 - accuracy: 0.7325\n",
      "Epoch 6/50\n",
      "2571/2571 [==============================] - 3s 1ms/step - loss: 0.5481 - accuracy: 0.7322\n",
      "Epoch 7/50\n",
      "2571/2571 [==============================] - 3s 1ms/step - loss: 0.5473 - accuracy: 0.7330\n",
      "Epoch 8/50\n",
      "2571/2571 [==============================] - 4s 2ms/step - loss: 0.5470 - accuracy: 0.7338\n",
      "Epoch 9/50\n",
      "2571/2571 [==============================] - 3s 1ms/step - loss: 0.5462 - accuracy: 0.7326\n",
      "Epoch 10/50\n",
      "2571/2571 [==============================] - 3s 1ms/step - loss: 0.5460 - accuracy: 0.7342\n",
      "Epoch 11/50\n",
      "2571/2571 [==============================] - 3s 1ms/step - loss: 0.5455 - accuracy: 0.7345: 0s - loss: 0.5451 - \n",
      "Epoch 12/50\n",
      "2571/2571 [==============================] - 3s 1ms/step - loss: 0.5452 - accuracy: 0.7351\n",
      "Epoch 13/50\n",
      "2571/2571 [==============================] - 3s 1ms/step - loss: 0.5452 - accuracy: 0.7354\n",
      "Epoch 14/50\n",
      "2571/2571 [==============================] - 3s 1ms/step - loss: 0.5444 - accuracy: 0.7353\n",
      "Epoch 15/50\n",
      "2571/2571 [==============================] - 3s 1ms/step - loss: 0.5441 - accuracy: 0.7360\n",
      "Epoch 16/50\n",
      "2571/2571 [==============================] - 3s 1ms/step - loss: 0.5431 - accuracy: 0.7367\n",
      "Epoch 17/50\n",
      "2571/2571 [==============================] - 3s 1ms/step - loss: 0.5435 - accuracy: 0.7343\n",
      "Epoch 18/50\n",
      "2571/2571 [==============================] - 3s 1ms/step - loss: 0.5432 - accuracy: 0.7372\n",
      "Epoch 19/50\n",
      "2571/2571 [==============================] - 3s 1ms/step - loss: 0.5431 - accuracy: 0.7374\n",
      "Epoch 20/50\n",
      "2571/2571 [==============================] - 3s 1ms/step - loss: 0.5424 - accuracy: 0.7373\n",
      "Epoch 21/50\n",
      "2571/2571 [==============================] - 3s 1ms/step - loss: 0.5422 - accuracy: 0.7372\n",
      "Epoch 22/50\n",
      "2571/2571 [==============================] - 3s 1ms/step - loss: 0.5418 - accuracy: 0.7370\n",
      "Epoch 23/50\n",
      "2571/2571 [==============================] - 3s 1ms/step - loss: 0.5422 - accuracy: 0.7369\n",
      "Epoch 24/50\n",
      "2571/2571 [==============================] - 3s 1ms/step - loss: 0.5414 - accuracy: 0.7372\n",
      "Epoch 25/50\n",
      "2571/2571 [==============================] - 3s 1ms/step - loss: 0.5414 - accuracy: 0.7373\n",
      "Epoch 26/50\n",
      "2571/2571 [==============================] - 3s 1ms/step - loss: 0.5413 - accuracy: 0.7373\n",
      "Epoch 27/50\n",
      "2571/2571 [==============================] - 3s 1ms/step - loss: 0.5412 - accuracy: 0.7387\n",
      "Epoch 28/50\n",
      "2571/2571 [==============================] - 3s 1ms/step - loss: 0.5410 - accuracy: 0.7372\n",
      "Epoch 29/50\n",
      "2571/2571 [==============================] - 4s 2ms/step - loss: 0.5410 - accuracy: 0.7389\n",
      "Epoch 30/50\n",
      "2571/2571 [==============================] - 4s 2ms/step - loss: 0.5407 - accuracy: 0.7368\n",
      "Epoch 31/50\n",
      "2571/2571 [==============================] - 6s 2ms/step - loss: 0.5405 - accuracy: 0.7393\n",
      "Epoch 32/50\n",
      "2571/2571 [==============================] - 3s 1ms/step - loss: 0.5403 - accuracy: 0.7385\n",
      "Epoch 33/50\n",
      "2571/2571 [==============================] - 6s 2ms/step - loss: 0.5399 - accuracy: 0.7384\n",
      "Epoch 34/50\n",
      "2571/2571 [==============================] - 6s 2ms/step - loss: 0.5399 - accuracy: 0.7388\n",
      "Epoch 35/50\n",
      "2571/2571 [==============================] - 3s 1ms/step - loss: 0.5403 - accuracy: 0.7380\n",
      "Epoch 36/50\n",
      "2571/2571 [==============================] - 3s 1ms/step - loss: 0.5401 - accuracy: 0.7379\n",
      "Epoch 37/50\n",
      "2571/2571 [==============================] - 3s 1ms/step - loss: 0.5399 - accuracy: 0.7383: 0s - loss: 0.5391 - accu\n",
      "Epoch 38/50\n",
      "2571/2571 [==============================] - 4s 1ms/step - loss: 0.5396 - accuracy: 0.7390\n",
      "Epoch 39/50\n",
      "2571/2571 [==============================] - 3s 1ms/step - loss: 0.5397 - accuracy: 0.7381\n",
      "Epoch 40/50\n",
      "2571/2571 [==============================] - 3s 1ms/step - loss: 0.5394 - accuracy: 0.7404\n",
      "Epoch 41/50\n",
      "2571/2571 [==============================] - 3s 1ms/step - loss: 0.5392 - accuracy: 0.7387\n",
      "Epoch 42/50\n",
      "2571/2571 [==============================] - 3s 1ms/step - loss: 0.5392 - accuracy: 0.7384\n",
      "Epoch 43/50\n",
      "2571/2571 [==============================] - 3s 1ms/step - loss: 0.5393 - accuracy: 0.7394\n",
      "Epoch 44/50\n",
      "2571/2571 [==============================] - 4s 1ms/step - loss: 0.5389 - accuracy: 0.7376\n",
      "Epoch 45/50\n",
      "2571/2571 [==============================] - 4s 1ms/step - loss: 0.5387 - accuracy: 0.7400\n",
      "Epoch 46/50\n",
      "2571/2571 [==============================] - 3s 1ms/step - loss: 0.5388 - accuracy: 0.7388: 0s - loss: 0.5380 - accu\n",
      "Epoch 47/50\n",
      "2571/2571 [==============================] - 3s 1ms/step - loss: 0.5386 - accuracy: 0.7394\n",
      "Epoch 48/50\n",
      "2571/2571 [==============================] - 3s 1ms/step - loss: 0.5383 - accuracy: 0.7389\n",
      "Epoch 49/50\n",
      "2571/2571 [==============================] - 4s 1ms/step - loss: 0.5381 - accuracy: 0.7396\n",
      "Epoch 50/50\n",
      "2571/2571 [==============================] - 3s 1ms/step - loss: 0.5381 - accuracy: 0.7391\n"
     ]
    }
   ],
   "source": [
    "nn.compile(loss='binary_crossentropy',optimizer=tf.keras.optimizers.Adam(learning_rate=0.001),metrics=['accuracy'])\n",
    "\n",
    "# Train the model\n",
    "#  YOUR CODE GOES HERE\n",
    "fit_model=nn.fit(X_train_scaled,y_train,batch_size=10,shuffle=True,epochs=50)"
   ]
  },
  {
   "cell_type": "code",
   "execution_count": 51,
   "id": "bffafd77-adbb-4d6b-997c-99f9e7169be6",
   "metadata": {},
   "outputs": [
    {
     "name": "stdout",
     "output_type": "stream",
     "text": [
      "268/268 - 0s - loss: 0.5540 - accuracy: 0.7196\n",
      "Loss: 0.5540463924407959, Accuracy: 0.7196217775344849\n"
     ]
    }
   ],
   "source": [
    "# Evaluate the model using the test data\n",
    "model_loss, model_accuracy = nn.evaluate(X_test_scaled,y_test,verbose=2)\n",
    "print(f\"Loss: {model_loss}, Accuracy: {model_accuracy}\")"
   ]
  },
  {
   "cell_type": "code",
   "execution_count": 52,
   "id": "aaf9b131-3499-4df0-9fae-3eb073c2448a",
   "metadata": {},
   "outputs": [],
   "source": [
    "from tensorflow import keras\n",
    "nn.save('Optimizer/AlphabetSoupCharity_Optimization1.h5')\n",
    "nn_model = keras.models.load_model('Optimizer/AlphabetSoupCharity_Optimization1.h5')"
   ]
  },
  {
   "cell_type": "markdown",
   "id": "9e380e1a-9878-4b4e-8ad8-26289c2b9323",
   "metadata": {},
   "source": [
    "### Attempt2 for model optimizationm"
   ]
  },
  {
   "cell_type": "code",
   "execution_count": 26,
   "id": "4b916149-d2c1-4768-9739-47f694e96dea",
   "metadata": {},
   "outputs": [
    {
     "name": "stdout",
     "output_type": "stream",
     "text": [
      "Model: \"sequential_1\"\n",
      "_________________________________________________________________\n",
      "Layer (type)                 Output Shape              Param #   \n",
      "=================================================================\n",
      "dense_4 (Dense)              (None, 25)                950       \n",
      "_________________________________________________________________\n",
      "dense_5 (Dense)              (None, 17)                442       \n",
      "_________________________________________________________________\n",
      "dense_6 (Dense)              (None, 12)                216       \n",
      "_________________________________________________________________\n",
      "dense_7 (Dense)              (None, 8)                 104       \n",
      "_________________________________________________________________\n",
      "dense_8 (Dense)              (None, 1)                 9         \n",
      "=================================================================\n",
      "Total params: 1,721\n",
      "Trainable params: 1,721\n",
      "Non-trainable params: 0\n",
      "_________________________________________________________________\n"
     ]
    }
   ],
   "source": [
    "# Define the model - deep neural net, i.e., the number of input features and hidden nodes for each layer.\n",
    "#  YOUR CODE GOES HERE\n",
    "\n",
    "nn = tf.keras.models.Sequential()\n",
    "\n",
    "# First hidden layer\n",
    "#  YOUR CODE GOES HERE\n",
    "nn.add(tf.keras.layers.Dense(units=25,activation='relu',input_dim=37))\n",
    "# Second hidden layer\n",
    "#  YOUR CODE GOES HERE\n",
    "nn.add(tf.keras.layers.Dense(units=17,activation='relu'))\n",
    "nn.add(tf.keras.layers.Dense(units=12,activation='relu'))\n",
    "nn.add(tf.keras.layers.Dense(units=8,activation='relu'))\n",
    "# Output layer\n",
    "#  YOUR CODE GOES HERE\n",
    "nn.add(tf.keras.layers.Dense(units=1,activation='sigmoid'))\n",
    "# Check the structure of the model\n",
    "nn.summary()"
   ]
  },
  {
   "cell_type": "code",
   "execution_count": 27,
   "id": "6a0c7223-4f1d-475e-b140-b19bf39c4f97",
   "metadata": {},
   "outputs": [
    {
     "name": "stdout",
     "output_type": "stream",
     "text": [
      "Epoch 1/50\n",
      "2571/2571 [==============================] - 3s 996us/step - loss: 0.6265 - accuracy: 0.6606\n",
      "Epoch 2/50\n",
      "2571/2571 [==============================] - 3s 1ms/step - loss: 0.5753 - accuracy: 0.7251\n",
      "Epoch 3/50\n",
      "2571/2571 [==============================] - 3s 1ms/step - loss: 0.5642 - accuracy: 0.7290\n",
      "Epoch 4/50\n",
      "2571/2571 [==============================] - 3s 1ms/step - loss: 0.5598 - accuracy: 0.7309\n",
      "Epoch 5/50\n",
      "2571/2571 [==============================] - 3s 1ms/step - loss: 0.5574 - accuracy: 0.7302\n",
      "Epoch 6/50\n",
      "2571/2571 [==============================] - 3s 1ms/step - loss: 0.5556 - accuracy: 0.7313\n",
      "Epoch 7/50\n",
      "2571/2571 [==============================] - 3s 1ms/step - loss: 0.5547 - accuracy: 0.7322\n",
      "Epoch 8/50\n",
      "2571/2571 [==============================] - 3s 1ms/step - loss: 0.5532 - accuracy: 0.7315\n",
      "Epoch 9/50\n",
      "2571/2571 [==============================] - 3s 1ms/step - loss: 0.5521 - accuracy: 0.7335\n",
      "Epoch 10/50\n",
      "2571/2571 [==============================] - 4s 2ms/step - loss: 0.5513 - accuracy: 0.7343\n",
      "Epoch 11/50\n",
      "2571/2571 [==============================] - 3s 1ms/step - loss: 0.5504 - accuracy: 0.7337\n",
      "Epoch 12/50\n",
      "2571/2571 [==============================] - 3s 1ms/step - loss: 0.5498 - accuracy: 0.7346\n",
      "Epoch 13/50\n",
      "2571/2571 [==============================] - 3s 1ms/step - loss: 0.5496 - accuracy: 0.7347\n",
      "Epoch 14/50\n",
      "2571/2571 [==============================] - 4s 1ms/step - loss: 0.5491 - accuracy: 0.7333\n",
      "Epoch 15/50\n",
      "2571/2571 [==============================] - 3s 1ms/step - loss: 0.5487 - accuracy: 0.7344\n",
      "Epoch 16/50\n",
      "2571/2571 [==============================] - 3s 1ms/step - loss: 0.5481 - accuracy: 0.7337\n",
      "Epoch 17/50\n",
      "2571/2571 [==============================] - 3s 1ms/step - loss: 0.5472 - accuracy: 0.7359\n",
      "Epoch 18/50\n",
      "2571/2571 [==============================] - 3s 1ms/step - loss: 0.5470 - accuracy: 0.7358\n",
      "Epoch 19/50\n",
      "2571/2571 [==============================] - 3s 1ms/step - loss: 0.5464 - accuracy: 0.7349\n",
      "Epoch 20/50\n",
      "2571/2571 [==============================] - 3s 1ms/step - loss: 0.5466 - accuracy: 0.7358\n",
      "Epoch 21/50\n",
      "2571/2571 [==============================] - 3s 1ms/step - loss: 0.5463 - accuracy: 0.7349\n",
      "Epoch 22/50\n",
      "2571/2571 [==============================] - 3s 1ms/step - loss: 0.5462 - accuracy: 0.7346\n",
      "Epoch 23/50\n",
      "2571/2571 [==============================] - 3s 1ms/step - loss: 0.5459 - accuracy: 0.7354\n",
      "Epoch 24/50\n",
      "2571/2571 [==============================] - 3s 1ms/step - loss: 0.5454 - accuracy: 0.7344\n",
      "Epoch 25/50\n",
      "2571/2571 [==============================] - 3s 1ms/step - loss: 0.5456 - accuracy: 0.7355\n",
      "Epoch 26/50\n",
      "2571/2571 [==============================] - 3s 1ms/step - loss: 0.5448 - accuracy: 0.7373\n",
      "Epoch 27/50\n",
      "2571/2571 [==============================] - 3s 1ms/step - loss: 0.5445 - accuracy: 0.7362\n",
      "Epoch 28/50\n",
      "2571/2571 [==============================] - 3s 1ms/step - loss: 0.5445 - accuracy: 0.7363\n",
      "Epoch 29/50\n",
      "2571/2571 [==============================] - 3s 1ms/step - loss: 0.5444 - accuracy: 0.7361\n",
      "Epoch 30/50\n",
      "2571/2571 [==============================] - 3s 1ms/step - loss: 0.5443 - accuracy: 0.7368\n",
      "Epoch 31/50\n",
      "2571/2571 [==============================] - 3s 1ms/step - loss: 0.5440 - accuracy: 0.7366\n",
      "Epoch 32/50\n",
      "2571/2571 [==============================] - 3s 1ms/step - loss: 0.5441 - accuracy: 0.7362\n",
      "Epoch 33/50\n",
      "2571/2571 [==============================] - 3s 1ms/step - loss: 0.5439 - accuracy: 0.7344\n",
      "Epoch 34/50\n",
      "2571/2571 [==============================] - 3s 1ms/step - loss: 0.5434 - accuracy: 0.7356\n",
      "Epoch 35/50\n",
      "2571/2571 [==============================] - 3s 1ms/step - loss: 0.5432 - accuracy: 0.7368\n",
      "Epoch 36/50\n",
      "2571/2571 [==============================] - 3s 1ms/step - loss: 0.5436 - accuracy: 0.7365\n",
      "Epoch 37/50\n",
      "2571/2571 [==============================] - 3s 1ms/step - loss: 0.5434 - accuracy: 0.7368\n",
      "Epoch 38/50\n",
      "2571/2571 [==============================] - 3s 1ms/step - loss: 0.5435 - accuracy: 0.7360\n",
      "Epoch 39/50\n",
      "2571/2571 [==============================] - 3s 1ms/step - loss: 0.5429 - accuracy: 0.7371\n",
      "Epoch 40/50\n",
      "2571/2571 [==============================] - 3s 1ms/step - loss: 0.5432 - accuracy: 0.7364\n",
      "Epoch 41/50\n",
      "2571/2571 [==============================] - 3s 1ms/step - loss: 0.5430 - accuracy: 0.7352\n",
      "Epoch 42/50\n",
      "2571/2571 [==============================] - 3s 1ms/step - loss: 0.5426 - accuracy: 0.7371\n",
      "Epoch 43/50\n",
      "2571/2571 [==============================] - 3s 1ms/step - loss: 0.5423 - accuracy: 0.7381\n",
      "Epoch 44/50\n",
      "2571/2571 [==============================] - 3s 1ms/step - loss: 0.5423 - accuracy: 0.7360\n",
      "Epoch 45/50\n",
      "2571/2571 [==============================] - 3s 1ms/step - loss: 0.5426 - accuracy: 0.7357\n",
      "Epoch 46/50\n",
      "2571/2571 [==============================] - 3s 1ms/step - loss: 0.5419 - accuracy: 0.7366\n",
      "Epoch 47/50\n",
      "2571/2571 [==============================] - 3s 1ms/step - loss: 0.5421 - accuracy: 0.7367\n",
      "Epoch 48/50\n",
      "2571/2571 [==============================] - 3s 1ms/step - loss: 0.5424 - accuracy: 0.7364\n",
      "Epoch 49/50\n",
      "2571/2571 [==============================] - 3s 1ms/step - loss: 0.5418 - accuracy: 0.7383\n",
      "Epoch 50/50\n",
      "2571/2571 [==============================] - 3s 1ms/step - loss: 0.5421 - accuracy: 0.7381\n"
     ]
    }
   ],
   "source": [
    "nn.compile(loss='binary_crossentropy',optimizer=tf.keras.optimizers.SGD(learning_rate=0.01),metrics=['accuracy'])\n",
    "\n",
    "# Train the model\n",
    "#  YOUR CODE GOES HERE\n",
    "fit_model=nn.fit(X_train_scaled,y_train,batch_size=10,shuffle=True,epochs=50)"
   ]
  },
  {
   "cell_type": "code",
   "execution_count": 28,
   "id": "918c894d-cb88-4a43-b619-e31c5e54ea19",
   "metadata": {},
   "outputs": [
    {
     "name": "stdout",
     "output_type": "stream",
     "text": [
      "268/268 - 0s - loss: 0.5609 - accuracy: 0.7161\n",
      "Loss: 0.5608525276184082, Accuracy: 0.7161200046539307\n"
     ]
    }
   ],
   "source": [
    "model_loss, model_accuracy = nn.evaluate(X_test_scaled,y_test,verbose=2)\n",
    "print(f\"Loss: {model_loss}, Accuracy: {model_accuracy}\")"
   ]
  },
  {
   "cell_type": "code",
   "execution_count": 29,
   "id": "20e66319-6f06-4843-93c4-1bf401b4a7da",
   "metadata": {},
   "outputs": [],
   "source": [
    "from tensorflow import keras\n",
    "nn.save('Optimizer/AlphabetSoupCharity_Optimization2.h5')\n",
    "nn_model = keras.models.load_model('Optimizer/AlphabetSoupCharity_Optimization2.h5')"
   ]
  },
  {
   "cell_type": "markdown",
   "id": "be40214f-6eaa-4418-b52b-9f1bc9450b1f",
   "metadata": {},
   "source": [
    "### Attempt3 for model optimization"
   ]
  },
  {
   "cell_type": "code",
   "execution_count": 30,
   "id": "ebb87f4b-563f-4666-a714-d5b998b41bfa",
   "metadata": {},
   "outputs": [
    {
     "name": "stdout",
     "output_type": "stream",
     "text": [
      "Model: \"sequential_2\"\n",
      "_________________________________________________________________\n",
      "Layer (type)                 Output Shape              Param #   \n",
      "=================================================================\n",
      "dense_9 (Dense)              (None, 30)                1140      \n",
      "_________________________________________________________________\n",
      "dense_10 (Dense)             (None, 20)                620       \n",
      "_________________________________________________________________\n",
      "dense_11 (Dense)             (None, 15)                315       \n",
      "_________________________________________________________________\n",
      "dense_12 (Dense)             (None, 10)                160       \n",
      "_________________________________________________________________\n",
      "dense_13 (Dense)             (None, 1)                 11        \n",
      "=================================================================\n",
      "Total params: 2,246\n",
      "Trainable params: 2,246\n",
      "Non-trainable params: 0\n",
      "_________________________________________________________________\n"
     ]
    }
   ],
   "source": [
    "# Define the model - deep neural net, i.e., the number of input features and hidden nodes for each layer.\n",
    "#  YOUR CODE GOES HERE\n",
    "\n",
    "nn = tf.keras.models.Sequential()\n",
    "\n",
    "# First hidden layer\n",
    "#  YOUR CODE GOES HERE\n",
    "nn.add(tf.keras.layers.Dense(units=30,activation='relu',input_dim=37))\n",
    "# Second hidden layer\n",
    "#  YOUR CODE GOES HERE\n",
    "nn.add(tf.keras.layers.Dense(units=20,activation='relu'))\n",
    "nn.add(tf.keras.layers.Dense(units=15,activation='relu'))\n",
    "nn.add(tf.keras.layers.Dense(units=10,activation='relu'))\n",
    "\n",
    "\n",
    "# Output layer\n",
    "#  YOUR CODE GOES HERE\n",
    "nn.add(tf.keras.layers.Dense(units=1,activation='sigmoid'))\n",
    "# Check the structure of the model\n",
    "nn.summary()"
   ]
  },
  {
   "cell_type": "code",
   "execution_count": 31,
   "id": "3c64a185-597f-46fc-8394-cdd17cf2fa21",
   "metadata": {},
   "outputs": [
    {
     "name": "stdout",
     "output_type": "stream",
     "text": [
      "Epoch 1/50\n",
      "2571/2571 [==============================] - 4s 2ms/step - loss: 0.6358 - accuracy: 0.6600\n",
      "Epoch 2/50\n",
      "2571/2571 [==============================] - 3s 1ms/step - loss: 0.5744 - accuracy: 0.7225\n",
      "Epoch 3/50\n",
      "2571/2571 [==============================] - 4s 1ms/step - loss: 0.5624 - accuracy: 0.7285: 0s - loss: 0.5626 - accuracy: \n",
      "Epoch 4/50\n",
      "2571/2571 [==============================] - 3s 1ms/step - loss: 0.5567 - accuracy: 0.7316\n",
      "Epoch 5/50\n",
      "2571/2571 [==============================] - 3s 1ms/step - loss: 0.5532 - accuracy: 0.7333\n",
      "Epoch 6/50\n",
      "2571/2571 [==============================] - 3s 1ms/step - loss: 0.5511 - accuracy: 0.7328\n",
      "Epoch 7/50\n",
      "2571/2571 [==============================] - 3s 1ms/step - loss: 0.5493 - accuracy: 0.7338\n",
      "Epoch 8/50\n",
      "2571/2571 [==============================] - 3s 1ms/step - loss: 0.5481 - accuracy: 0.7340\n",
      "Epoch 9/50\n",
      "2571/2571 [==============================] - 3s 1ms/step - loss: 0.5474 - accuracy: 0.7340\n",
      "Epoch 10/50\n",
      "2571/2571 [==============================] - 3s 1ms/step - loss: 0.5465 - accuracy: 0.7345\n",
      "Epoch 11/50\n",
      "2571/2571 [==============================] - 4s 1ms/step - loss: 0.5458 - accuracy: 0.7347\n",
      "Epoch 12/50\n",
      "2571/2571 [==============================] - 3s 1ms/step - loss: 0.5453 - accuracy: 0.7360\n",
      "Epoch 13/50\n",
      "2571/2571 [==============================] - 3s 1ms/step - loss: 0.5448 - accuracy: 0.7359\n",
      "Epoch 14/50\n",
      "2571/2571 [==============================] - 3s 1ms/step - loss: 0.5445 - accuracy: 0.7360\n",
      "Epoch 15/50\n",
      "2571/2571 [==============================] - 3s 1ms/step - loss: 0.5441 - accuracy: 0.7363\n",
      "Epoch 16/50\n",
      "2571/2571 [==============================] - 3s 1ms/step - loss: 0.5436 - accuracy: 0.7366\n",
      "Epoch 17/50\n",
      "2571/2571 [==============================] - 3s 1ms/step - loss: 0.5433 - accuracy: 0.7367\n",
      "Epoch 18/50\n",
      "2571/2571 [==============================] - 3s 1ms/step - loss: 0.5429 - accuracy: 0.7364\n",
      "Epoch 19/50\n",
      "2571/2571 [==============================] - 3s 1ms/step - loss: 0.5428 - accuracy: 0.7360\n",
      "Epoch 20/50\n",
      "2571/2571 [==============================] - 3s 1ms/step - loss: 0.5425 - accuracy: 0.7370\n",
      "Epoch 21/50\n",
      "2571/2571 [==============================] - 3s 1ms/step - loss: 0.5423 - accuracy: 0.7369\n",
      "Epoch 22/50\n",
      "2571/2571 [==============================] - 3s 1ms/step - loss: 0.5420 - accuracy: 0.7367\n",
      "Epoch 23/50\n",
      "2571/2571 [==============================] - 3s 1ms/step - loss: 0.5417 - accuracy: 0.7374\n",
      "Epoch 24/50\n",
      "2571/2571 [==============================] - 3s 1ms/step - loss: 0.5414 - accuracy: 0.7381\n",
      "Epoch 25/50\n",
      "2571/2571 [==============================] - 3s 1ms/step - loss: 0.5414 - accuracy: 0.7378\n",
      "Epoch 26/50\n",
      "2571/2571 [==============================] - 3s 1ms/step - loss: 0.5411 - accuracy: 0.7372\n",
      "Epoch 27/50\n",
      "2571/2571 [==============================] - 3s 1ms/step - loss: 0.5410 - accuracy: 0.7384\n",
      "Epoch 28/50\n",
      "2571/2571 [==============================] - 3s 1ms/step - loss: 0.5409 - accuracy: 0.7374\n",
      "Epoch 29/50\n",
      "2571/2571 [==============================] - 4s 1ms/step - loss: 0.5405 - accuracy: 0.7379\n",
      "Epoch 30/50\n",
      "2571/2571 [==============================] - 3s 1ms/step - loss: 0.5404 - accuracy: 0.7375\n",
      "Epoch 31/50\n",
      "2571/2571 [==============================] - 3s 1ms/step - loss: 0.5403 - accuracy: 0.7385\n",
      "Epoch 32/50\n",
      "2571/2571 [==============================] - 3s 1ms/step - loss: 0.5401 - accuracy: 0.7385\n",
      "Epoch 33/50\n",
      "2571/2571 [==============================] - 3s 1ms/step - loss: 0.5400 - accuracy: 0.7389\n",
      "Epoch 34/50\n",
      "2571/2571 [==============================] - 3s 1ms/step - loss: 0.5398 - accuracy: 0.7388\n",
      "Epoch 35/50\n",
      "2571/2571 [==============================] - 3s 1ms/step - loss: 0.5398 - accuracy: 0.7389\n",
      "Epoch 36/50\n",
      "2571/2571 [==============================] - 3s 1ms/step - loss: 0.5397 - accuracy: 0.7385\n",
      "Epoch 37/50\n",
      "2571/2571 [==============================] - 3s 1ms/step - loss: 0.5395 - accuracy: 0.7386\n",
      "Epoch 38/50\n",
      "2571/2571 [==============================] - 3s 1ms/step - loss: 0.5394 - accuracy: 0.7393: 0s - loss: 0.5\n",
      "Epoch 39/50\n",
      "2571/2571 [==============================] - 3s 1ms/step - loss: 0.5392 - accuracy: 0.7380\n",
      "Epoch 40/50\n",
      "2571/2571 [==============================] - 3s 1ms/step - loss: 0.5390 - accuracy: 0.7393\n",
      "Epoch 41/50\n",
      "2571/2571 [==============================] - 3s 1ms/step - loss: 0.5389 - accuracy: 0.7394\n",
      "Epoch 42/50\n",
      "2571/2571 [==============================] - 3s 1ms/step - loss: 0.5390 - accuracy: 0.7399\n",
      "Epoch 43/50\n",
      "2571/2571 [==============================] - 3s 1ms/step - loss: 0.5388 - accuracy: 0.7382\n",
      "Epoch 44/50\n",
      "2571/2571 [==============================] - 4s 2ms/step - loss: 0.5386 - accuracy: 0.7391\n",
      "Epoch 45/50\n",
      "2571/2571 [==============================] - 3s 1ms/step - loss: 0.5385 - accuracy: 0.7387\n",
      "Epoch 46/50\n",
      "2571/2571 [==============================] - 3s 1ms/step - loss: 0.5382 - accuracy: 0.7392\n",
      "Epoch 47/50\n",
      "2571/2571 [==============================] - 3s 1ms/step - loss: 0.5384 - accuracy: 0.7388\n",
      "Epoch 48/50\n",
      "2571/2571 [==============================] - 3s 1ms/step - loss: 0.5380 - accuracy: 0.7394\n",
      "Epoch 49/50\n",
      "2571/2571 [==============================] - 3s 1ms/step - loss: 0.5380 - accuracy: 0.7386\n",
      "Epoch 50/50\n",
      "2571/2571 [==============================] - 252s 98ms/step - loss: 0.5382 - accuracy: 0.7391\n"
     ]
    }
   ],
   "source": [
    "nn.compile(loss='binary_crossentropy',optimizer=tf.keras.optimizers.Adam(learning_rate=0.0001),metrics=['accuracy'])\n",
    "\n",
    "# Train the model\n",
    "#  YOUR CODE GOES HERE\n",
    "fit_model=nn.fit(X_train_scaled,y_train,batch_size=10,shuffle=True,epochs=50)"
   ]
  },
  {
   "cell_type": "code",
   "execution_count": 32,
   "id": "7d9e46ca-ac1b-465b-990b-b4632689f995",
   "metadata": {},
   "outputs": [
    {
     "name": "stdout",
     "output_type": "stream",
     "text": [
      "268/268 - 0s - loss: 0.5588 - accuracy: 0.7196\n",
      "Loss: 0.5587584376335144, Accuracy: 0.7196217775344849\n"
     ]
    }
   ],
   "source": [
    "model_loss, model_accuracy = nn.evaluate(X_test_scaled,y_test,verbose=2)\n",
    "print(f\"Loss: {model_loss}, Accuracy: {model_accuracy}\")"
   ]
  },
  {
   "cell_type": "code",
   "execution_count": 33,
   "id": "51a6d08a-eb45-414d-8acd-a63eefe0cc49",
   "metadata": {},
   "outputs": [],
   "source": [
    "from tensorflow import keras\n",
    "nn.save('Optimizer/AlphabetSoupCharity_Optimization3.h5')\n",
    "nn_model = keras.models.load_model('Optimizer/AlphabetSoupCharity_Optimization3.h5')"
   ]
  },
  {
   "cell_type": "markdown",
   "id": "dd6c469e-09ed-4634-b1a6-5a6f7e15cec0",
   "metadata": {},
   "source": [
    "### Trying to search Best hyperparameters using Keras Tuner"
   ]
  },
  {
   "cell_type": "code",
   "execution_count": 34,
   "id": "0d93746f-6824-416b-ad14-4325e87d1085",
   "metadata": {},
   "outputs": [],
   "source": [
    "# Create a method that creates a new Sequential model with hyperparameter options\n",
    "def create_model(hp):\n",
    "    nn = tf.keras.models.Sequential()\n",
    "\n",
    "    # Allow kerastuner to decide which activation function to use in hidden layers\n",
    "    activation = hp.Choice('activation',['relu','tanh'])\n",
    "    \n",
    "    # Allow kerastuner to decide number of neurons in first layer\n",
    "    nn.add(tf.keras.layers.Dense(units=hp.Int('first_units',\n",
    "        min_value=15,\n",
    "        max_value=30,\n",
    "        step=5), activation=activation, input_dim=37))\n",
    "\n",
    "    # Allow kerastuner to decide number of hidden layers and neurons in hidden layers\n",
    "    for i in range(hp.Int('num_layers', 1, 5)):\n",
    "        nn.add(tf.keras.layers.Dense(units=hp.Int('units_' + str(i),\n",
    "            min_value=15,\n",
    "            max_value=50,\n",
    "            step=5),\n",
    "            activation=activation))\n",
    "    \n",
    "    nn.add(tf.keras.layers.Dense(units=1, activation=\"sigmoid\"))\n",
    "\n",
    "    # Compile the model\n",
    "    nn.compile(loss=\"binary_crossentropy\", optimizer=tf.keras.optimizers.Adam(learning_rate=0.0001), metrics=[\"accuracy\"])\n",
    "    \n",
    "    return nn\n"
   ]
  },
  {
   "cell_type": "code",
   "execution_count": 35,
   "id": "9dc2805c-33b2-41ad-b97d-efd9213e0145",
   "metadata": {},
   "outputs": [],
   "source": [
    "# Import the kerastuner library\n",
    "import keras_tuner as kt\n",
    "\n",
    "tuner = kt.Hyperband(\n",
    "    create_model,\n",
    "    objective=\"val_accuracy\",\n",
    "    max_epochs=20,\n",
    "    hyperband_iterations=2)"
   ]
  },
  {
   "cell_type": "code",
   "execution_count": 36,
   "id": "a7792241-f5b2-47a0-adcd-f7059aa0f765",
   "metadata": {},
   "outputs": [
    {
     "name": "stdout",
     "output_type": "stream",
     "text": [
      "Trial 60 Complete [00h 00m 27s]\n",
      "val_accuracy: 0.7161200046539307\n",
      "\n",
      "Best val_accuracy So Far: 0.7191548943519592\n",
      "Total elapsed time: 00h 10m 47s\n",
      "INFO:tensorflow:Oracle triggered exit\n"
     ]
    }
   ],
   "source": [
    "# Run the kerastuner search for best hyperparameters\n",
    "tuner.search(X_train_scaled,y_train,epochs=20,validation_data=(X_test_scaled,y_test))\n"
   ]
  },
  {
   "cell_type": "code",
   "execution_count": 37,
   "id": "42ea0214-f0af-483f-8495-04d23029608f",
   "metadata": {},
   "outputs": [
    {
     "name": "stdout",
     "output_type": "stream",
     "text": [
      "{'activation': 'relu', 'first_units': 25, 'num_layers': 4, 'units_0': 30, 'units_1': 50, 'units_2': 35, 'units_3': 40, 'tuner/epochs': 20, 'tuner/initial_epoch': 0, 'tuner/bracket': 0, 'tuner/round': 0}\n",
      "{'activation': 'relu', 'first_units': 25, 'num_layers': 4, 'units_0': 45, 'units_1': 40, 'units_2': 25, 'units_3': 35, 'tuner/epochs': 20, 'tuner/initial_epoch': 7, 'tuner/bracket': 1, 'tuner/round': 1, 'tuner/trial_id': '1693fd988a857f7e5b01665f95f837fa'}\n",
      "{'activation': 'relu', 'first_units': 25, 'num_layers': 4, 'units_0': 45, 'units_1': 40, 'units_2': 25, 'units_3': 35, 'tuner/epochs': 7, 'tuner/initial_epoch': 0, 'tuner/bracket': 1, 'tuner/round': 0}\n"
     ]
    }
   ],
   "source": [
    "# Get top 3 model hyperparameters and print the values\n",
    "top_hyper = tuner.get_best_hyperparameters(3)\n",
    "for param in top_hyper:\n",
    "    print(param.values)"
   ]
  },
  {
   "cell_type": "code",
   "execution_count": 38,
   "id": "b216c14a-5f6d-4c15-b59c-f7e3d8f04508",
   "metadata": {},
   "outputs": [
    {
     "name": "stdout",
     "output_type": "stream",
     "text": [
      "268/268 - 0s - loss: 0.5631 - accuracy: 0.7192\n",
      "Loss: 0.5630514025688171, Accuracy: 0.7191548943519592\n",
      "268/268 - 0s - loss: 0.5621 - accuracy: 0.7176\n",
      "Loss: 0.5620737671852112, Accuracy: 0.7176374197006226\n",
      "268/268 - 0s - loss: 0.5679 - accuracy: 0.7173\n",
      "Loss: 0.5679413676261902, Accuracy: 0.7172872424125671\n"
     ]
    }
   ],
   "source": [
    "# Evaluate the top 3 models against the test dataset\n",
    "top_model = tuner.get_best_models(3)\n",
    "for model in top_model:\n",
    "    model_loss, model_accuracy = model.evaluate(X_test_scaled,y_test,verbose=2)\n",
    "    print(f\"Loss: {model_loss}, Accuracy: {model_accuracy}\")"
   ]
  },
  {
   "cell_type": "code",
   "execution_count": null,
   "id": "7c616566-457d-4632-aa43-b0949f25f369",
   "metadata": {},
   "outputs": [],
   "source": []
  }
 ],
 "metadata": {
  "kernelspec": {
   "display_name": "Python 3",
   "language": "python",
   "name": "python3"
  },
  "language_info": {
   "codemirror_mode": {
    "name": "ipython",
    "version": 3
   },
   "file_extension": ".py",
   "mimetype": "text/x-python",
   "name": "python",
   "nbconvert_exporter": "python",
   "pygments_lexer": "ipython3",
   "version": "3.6.13"
  }
 },
 "nbformat": 4,
 "nbformat_minor": 5
}
