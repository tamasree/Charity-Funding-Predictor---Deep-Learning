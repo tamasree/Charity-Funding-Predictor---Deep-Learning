{
 "cells": [
  {
   "cell_type": "code",
   "execution_count": 29,
   "id": "82f0ff49-e876-46fa-9b1b-7b77e87d95f3",
   "metadata": {},
   "outputs": [
    {
     "data": {
      "text/html": [
       "<div>\n",
       "<style scoped>\n",
       "    .dataframe tbody tr th:only-of-type {\n",
       "        vertical-align: middle;\n",
       "    }\n",
       "\n",
       "    .dataframe tbody tr th {\n",
       "        vertical-align: top;\n",
       "    }\n",
       "\n",
       "    .dataframe thead th {\n",
       "        text-align: right;\n",
       "    }\n",
       "</style>\n",
       "<table border=\"1\" class=\"dataframe\">\n",
       "  <thead>\n",
       "    <tr style=\"text-align: right;\">\n",
       "      <th></th>\n",
       "      <th>EIN</th>\n",
       "      <th>NAME</th>\n",
       "      <th>APPLICATION_TYPE</th>\n",
       "      <th>AFFILIATION</th>\n",
       "      <th>CLASSIFICATION</th>\n",
       "      <th>USE_CASE</th>\n",
       "      <th>ORGANIZATION</th>\n",
       "      <th>STATUS</th>\n",
       "      <th>INCOME_AMT</th>\n",
       "      <th>SPECIAL_CONSIDERATIONS</th>\n",
       "      <th>ASK_AMT</th>\n",
       "      <th>IS_SUCCESSFUL</th>\n",
       "    </tr>\n",
       "  </thead>\n",
       "  <tbody>\n",
       "    <tr>\n",
       "      <th>0</th>\n",
       "      <td>10520599</td>\n",
       "      <td>BLUE KNIGHTS MOTORCYCLE CLUB</td>\n",
       "      <td>T10</td>\n",
       "      <td>Independent</td>\n",
       "      <td>C1000</td>\n",
       "      <td>ProductDev</td>\n",
       "      <td>Association</td>\n",
       "      <td>1</td>\n",
       "      <td>0</td>\n",
       "      <td>N</td>\n",
       "      <td>5000</td>\n",
       "      <td>1</td>\n",
       "    </tr>\n",
       "    <tr>\n",
       "      <th>1</th>\n",
       "      <td>10531628</td>\n",
       "      <td>AMERICAN CHESAPEAKE CLUB CHARITABLE TR</td>\n",
       "      <td>T3</td>\n",
       "      <td>Independent</td>\n",
       "      <td>C2000</td>\n",
       "      <td>Preservation</td>\n",
       "      <td>Co-operative</td>\n",
       "      <td>1</td>\n",
       "      <td>1-9999</td>\n",
       "      <td>N</td>\n",
       "      <td>108590</td>\n",
       "      <td>1</td>\n",
       "    </tr>\n",
       "    <tr>\n",
       "      <th>2</th>\n",
       "      <td>10547893</td>\n",
       "      <td>ST CLOUD PROFESSIONAL FIREFIGHTERS</td>\n",
       "      <td>T5</td>\n",
       "      <td>CompanySponsored</td>\n",
       "      <td>C3000</td>\n",
       "      <td>ProductDev</td>\n",
       "      <td>Association</td>\n",
       "      <td>1</td>\n",
       "      <td>0</td>\n",
       "      <td>N</td>\n",
       "      <td>5000</td>\n",
       "      <td>0</td>\n",
       "    </tr>\n",
       "    <tr>\n",
       "      <th>3</th>\n",
       "      <td>10553066</td>\n",
       "      <td>SOUTHSIDE ATHLETIC ASSOCIATION</td>\n",
       "      <td>T3</td>\n",
       "      <td>CompanySponsored</td>\n",
       "      <td>C2000</td>\n",
       "      <td>Preservation</td>\n",
       "      <td>Trust</td>\n",
       "      <td>1</td>\n",
       "      <td>10000-24999</td>\n",
       "      <td>N</td>\n",
       "      <td>6692</td>\n",
       "      <td>1</td>\n",
       "    </tr>\n",
       "    <tr>\n",
       "      <th>4</th>\n",
       "      <td>10556103</td>\n",
       "      <td>GENETIC RESEARCH INSTITUTE OF THE DESERT</td>\n",
       "      <td>T3</td>\n",
       "      <td>Independent</td>\n",
       "      <td>C1000</td>\n",
       "      <td>Heathcare</td>\n",
       "      <td>Trust</td>\n",
       "      <td>1</td>\n",
       "      <td>100000-499999</td>\n",
       "      <td>N</td>\n",
       "      <td>142590</td>\n",
       "      <td>1</td>\n",
       "    </tr>\n",
       "  </tbody>\n",
       "</table>\n",
       "</div>"
      ],
      "text/plain": [
       "        EIN                                      NAME APPLICATION_TYPE  \\\n",
       "0  10520599              BLUE KNIGHTS MOTORCYCLE CLUB              T10   \n",
       "1  10531628    AMERICAN CHESAPEAKE CLUB CHARITABLE TR               T3   \n",
       "2  10547893        ST CLOUD PROFESSIONAL FIREFIGHTERS               T5   \n",
       "3  10553066            SOUTHSIDE ATHLETIC ASSOCIATION               T3   \n",
       "4  10556103  GENETIC RESEARCH INSTITUTE OF THE DESERT               T3   \n",
       "\n",
       "        AFFILIATION CLASSIFICATION      USE_CASE  ORGANIZATION  STATUS  \\\n",
       "0       Independent          C1000    ProductDev   Association       1   \n",
       "1       Independent          C2000  Preservation  Co-operative       1   \n",
       "2  CompanySponsored          C3000    ProductDev   Association       1   \n",
       "3  CompanySponsored          C2000  Preservation         Trust       1   \n",
       "4       Independent          C1000     Heathcare         Trust       1   \n",
       "\n",
       "      INCOME_AMT SPECIAL_CONSIDERATIONS  ASK_AMT  IS_SUCCESSFUL  \n",
       "0              0                      N     5000              1  \n",
       "1         1-9999                      N   108590              1  \n",
       "2              0                      N     5000              0  \n",
       "3    10000-24999                      N     6692              1  \n",
       "4  100000-499999                      N   142590              1  "
      ]
     },
     "execution_count": 29,
     "metadata": {},
     "output_type": "execute_result"
    }
   ],
   "source": [
    "# Import our dependencies\n",
    "from sklearn.model_selection import train_test_split\n",
    "from sklearn.preprocessing import StandardScaler,MinMaxScaler\n",
    "import pandas as pd\n",
    "import tensorflow as tf\n",
    "\n",
    "#  Import and read the charity_data.csv.\n",
    "import pandas as pd \n",
    "application_df = pd.read_csv(\"Resources/charity_data.csv\")\n",
    "application_df.head()"
   ]
  },
  {
   "cell_type": "code",
   "execution_count": 30,
   "id": "f05bfba0-4f92-4cd1-90c4-b05e9559658e",
   "metadata": {},
   "outputs": [
    {
     "data": {
      "text/plain": [
       "(34299, 12)"
      ]
     },
     "execution_count": 30,
     "metadata": {},
     "output_type": "execute_result"
    }
   ],
   "source": [
    "application_df.shape"
   ]
  },
  {
   "cell_type": "code",
   "execution_count": 31,
   "id": "49d5f0bf-03da-4a52-a28b-b72e3b6fa861",
   "metadata": {},
   "outputs": [
    {
     "data": {
      "text/plain": [
       "T3       27037\n",
       "T4        1542\n",
       "T6        1216\n",
       "T5        1173\n",
       "T19       1065\n",
       "T8         737\n",
       "T7         725\n",
       "T10        528\n",
       "T9         156\n",
       "T13         66\n",
       "Other       54\n",
       "Name: APPLICATION_TYPE, dtype: int64"
      ]
     },
     "execution_count": 31,
     "metadata": {},
     "output_type": "execute_result"
    }
   ],
   "source": [
    "application_df=application_df.drop(['EIN','NAME'],axis=1)\n",
    "\n",
    "application_types_to_replace=['T12','T2','T14','T25','T15','T29','T17']\n",
    "\n",
    "for app in application_types_to_replace:\n",
    "    application_df['APPLICATION_TYPE'] = application_df['APPLICATION_TYPE'].replace(app,\"Other\")\n",
    "    \n",
    "application_df['APPLICATION_TYPE'].value_counts()"
   ]
  },
  {
   "cell_type": "code",
   "execution_count": 32,
   "id": "6a881bf4-d067-491c-8a06-17c0a0b5df4d",
   "metadata": {},
   "outputs": [
    {
     "data": {
      "text/plain": [
       "C1000    17326\n",
       "C2000     6074\n",
       "C1200     4837\n",
       "C3000     1918\n",
       "C2100     1883\n",
       "C7000      777\n",
       "C1700      287\n",
       "C4000      194\n",
       "C5000      116\n",
       "C1270      114\n",
       "C2700      104\n",
       "C2800       95\n",
       "C7100       75\n",
       "C1300       58\n",
       "C1280       50\n",
       "C1230       36\n",
       "C1400       34\n",
       "C7200       32\n",
       "C2300       32\n",
       "C1240       30\n",
       "C8000       20\n",
       "C7120       18\n",
       "C1500       16\n",
       "C1800       15\n",
       "C6000       15\n",
       "C1250       14\n",
       "C8200       11\n",
       "C1278       10\n",
       "C1238       10\n",
       "C1235        9\n",
       "C1237        9\n",
       "C7210        7\n",
       "C2400        6\n",
       "C1720        6\n",
       "C4100        6\n",
       "C1257        5\n",
       "C1600        5\n",
       "C2710        3\n",
       "C0           3\n",
       "C1260        3\n",
       "C3200        2\n",
       "C1267        2\n",
       "C1246        2\n",
       "C1256        2\n",
       "C1234        2\n",
       "Name: CLASSIFICATION, dtype: int64"
      ]
     },
     "execution_count": 32,
     "metadata": {},
     "output_type": "execute_result"
    }
   ],
   "source": [
    "application_df=application_df.groupby('CLASSIFICATION').filter(lambda x: len(x) > 1)\n",
    "application_df['CLASSIFICATION'].value_counts()\n"
   ]
  },
  {
   "cell_type": "code",
   "execution_count": 33,
   "id": "1da762ed-e03c-4f4e-8b8e-011d1fda9a45",
   "metadata": {},
   "outputs": [
    {
     "data": {
      "text/plain": [
       "C1000    17326\n",
       "C2000     6074\n",
       "C1200     4837\n",
       "C3000     1918\n",
       "C2100     1883\n",
       "C7000      777\n",
       "Other      365\n",
       "C1700      287\n",
       "C4000      194\n",
       "C5000      116\n",
       "C1270      114\n",
       "C2700      104\n",
       "C2800       95\n",
       "C7100       75\n",
       "C1300       58\n",
       "C1280       50\n",
       "Name: CLASSIFICATION, dtype: int64"
      ]
     },
     "execution_count": 33,
     "metadata": {},
     "output_type": "execute_result"
    }
   ],
   "source": [
    "classification_dict=application_df['CLASSIFICATION'].value_counts().to_dict()\n",
    "\n",
    "classifications_to_replace=[]\n",
    "\n",
    "for key, value in classification_dict.items():\n",
    "    if value <50:\n",
    "        classifications_to_replace.append(key)\n",
    "        \n",
    "# Choose a cutoff value and create a list of classifications to be replaced\n",
    "# use the variable name `classifications_to_replace`\n",
    "#  YOUR CODE GOES HERE\n",
    "\n",
    "# Replace in dataframe\n",
    "\n",
    "for cls in classifications_to_replace:\n",
    "    application_df['CLASSIFICATION'] = application_df['CLASSIFICATION'].replace(cls,\"Other\")\n",
    "    \n",
    "# Check to make sure binning was successful\n",
    "application_df['CLASSIFICATION'].value_counts()"
   ]
  },
  {
   "cell_type": "code",
   "execution_count": 34,
   "id": "53bdc200-f9eb-4e1b-a089-d7b902941941",
   "metadata": {},
   "outputs": [
    {
     "data": {
      "text/plain": [
       "APPLICATION_TYPE          object\n",
       "AFFILIATION               object\n",
       "CLASSIFICATION            object\n",
       "USE_CASE                  object\n",
       "ORGANIZATION              object\n",
       "STATUS                     int64\n",
       "INCOME_AMT                object\n",
       "SPECIAL_CONSIDERATIONS    object\n",
       "ASK_AMT                    int64\n",
       "IS_SUCCESSFUL              int64\n",
       "dtype: object"
      ]
     },
     "execution_count": 34,
     "metadata": {},
     "output_type": "execute_result"
    }
   ],
   "source": [
    "application_df.dtypes"
   ]
  },
  {
   "cell_type": "code",
   "execution_count": 35,
   "id": "8bf7aedb-e972-4c7a-8d61-a169caae0a5b",
   "metadata": {},
   "outputs": [
    {
     "data": {
      "text/plain": [
       "1    34268\n",
       "0        5\n",
       "Name: STATUS, dtype: int64"
      ]
     },
     "execution_count": 35,
     "metadata": {},
     "output_type": "execute_result"
    }
   ],
   "source": [
    "application_df['STATUS'].value_counts()\n"
   ]
  },
  {
   "cell_type": "code",
   "execution_count": 36,
   "id": "3e3a35fc-e9e2-414e-9f20-aa3a646465c3",
   "metadata": {},
   "outputs": [],
   "source": [
    "# dropping rows with active status 0\n",
    "application_df=application_df.loc[application_df['STATUS']==1,:]\n"
   ]
  },
  {
   "cell_type": "code",
   "execution_count": 37,
   "id": "002eee7b-0a55-4b7b-8438-3e3234fc9c7a",
   "metadata": {},
   "outputs": [
    {
     "data": {
      "text/plain": [
       "<AxesSubplot:>"
      ]
     },
     "execution_count": 37,
     "metadata": {},
     "output_type": "execute_result"
    },
    {
     "data": {
      "image/png": "[encoded data removed]",
      "text/plain": [
       "<Figure size 432x288 with 1 Axes>"
      ]
     },
     "metadata": {
      "needs_background": "light"
     },
     "output_type": "display_data"
    }
   ],
   "source": [
    "# checking for outliers in cols\n",
    "\n",
    "import matplotlib.pyplot as plt\n",
    "application_df.boxplot(column=['ASK_AMT'])"
   ]
  },
  {
   "cell_type": "code",
   "execution_count": 38,
   "id": "6a53ad28-c6a1-49ea-a88f-4695cf18488c",
   "metadata": {},
   "outputs": [
    {
     "name": "stdout",
     "output_type": "stream",
     "text": [
      "max_ASK_AMT : 8597806340\n",
      "min_ASK_AMT : 5000\n"
     ]
    }
   ],
   "source": [
    "max_ASK_AMT=application_df['ASK_AMT'].max()\n",
    "min_ASK_AMT=application_df['ASK_AMT'].min()\n",
    "\n",
    "print (f'max_ASK_AMT : {max_ASK_AMT}')\n",
    "print (f'min_ASK_AMT : {min_ASK_AMT}')"
   ]
  },
  {
   "cell_type": "code",
   "execution_count": 39,
   "id": "2f9eaf54-07c8-4aa7-8074-2cb921a7f9b1",
   "metadata": {},
   "outputs": [],
   "source": [
    "import numpy as np\n",
    "quartiles=np.quantile(application_df['ASK_AMT'],[.25,.75])\n",
    "iqr=quartiles[1]-quartiles[0]\n",
    "lower_band=quartiles[0]-1.5*iqr\n",
    "upper_band=quartiles[1]+ 1.5*iqr\n",
    "\n",
    "#dropping outliers\n",
    "filt=(application_df['ASK_AMT']<=upper_band)| (application_df['ASK_AMT']>=lower_band)\n",
    "application_df=application_df.loc[filt,:]"
   ]
  },
  {
   "cell_type": "code",
   "execution_count": 40,
   "id": "1898ca56-32a4-4abe-bc05-a8191a6bab81",
   "metadata": {},
   "outputs": [
    {
     "data": {
      "text/plain": [
       "(34268, 10)"
      ]
     },
     "execution_count": 40,
     "metadata": {},
     "output_type": "execute_result"
    }
   ],
   "source": [
    "application_df.shape"
   ]
  },
  {
   "cell_type": "code",
   "execution_count": 41,
   "id": "6046a4fe-7ec6-45e8-b461-5cf5e08038af",
   "metadata": {},
   "outputs": [
    {
     "data": {
      "text/plain": [
       "Index(['STATUS', 'ASK_AMT', 'IS_SUCCESSFUL', 'APPLICATION_TYPE_T10',\n",
       "       'APPLICATION_TYPE_T13', 'APPLICATION_TYPE_T19', 'APPLICATION_TYPE_T3',\n",
       "       'APPLICATION_TYPE_T4', 'APPLICATION_TYPE_T5', 'APPLICATION_TYPE_T6',\n",
       "       'APPLICATION_TYPE_T7', 'APPLICATION_TYPE_T8', 'APPLICATION_TYPE_T9',\n",
       "       'AFFILIATION_Family/Parent', 'AFFILIATION_Independent',\n",
       "       'AFFILIATION_National', 'AFFILIATION_Other', 'AFFILIATION_Regional',\n",
       "       'CLASSIFICATION_C1200', 'CLASSIFICATION_C1270', 'CLASSIFICATION_C1280',\n",
       "       'CLASSIFICATION_C1300', 'CLASSIFICATION_C1700', 'CLASSIFICATION_C2000',\n",
       "       'CLASSIFICATION_C2100', 'CLASSIFICATION_C2700', 'CLASSIFICATION_C2800',\n",
       "       'CLASSIFICATION_C3000', 'CLASSIFICATION_C4000', 'CLASSIFICATION_C5000',\n",
       "       'CLASSIFICATION_C7000', 'CLASSIFICATION_C7100', 'CLASSIFICATION_Other',\n",
       "       'USE_CASE_Heathcare', 'USE_CASE_Other', 'USE_CASE_Preservation',\n",
       "       'USE_CASE_ProductDev', 'ORGANIZATION_Co-operative',\n",
       "       'ORGANIZATION_Corporation', 'ORGANIZATION_Trust', 'INCOME_AMT_1-9999',\n",
       "       'INCOME_AMT_10000-24999', 'INCOME_AMT_100000-499999',\n",
       "       'INCOME_AMT_10M-50M', 'INCOME_AMT_1M-5M', 'INCOME_AMT_25000-99999',\n",
       "       'INCOME_AMT_50M+', 'INCOME_AMT_5M-10M', 'SPECIAL_CONSIDERATIONS_Y'],\n",
       "      dtype='object')"
      ]
     },
     "execution_count": 41,
     "metadata": {},
     "output_type": "execute_result"
    }
   ],
   "source": [
    "# Convert categorical data to numeric with `pd.get_dummies`\n",
    "#  YOUR CODE GOES HERE\n",
    "application_df_encoded =pd.get_dummies(application_df, drop_first=True)\n",
    "application_df_encoded.columns"
   ]
  },
  {
   "cell_type": "code",
   "execution_count": 42,
   "id": "513825b0-4db3-41b3-827d-272016745ee9",
   "metadata": {},
   "outputs": [
    {
     "data": {
      "text/plain": [
       "(34268, 49)"
      ]
     },
     "execution_count": 42,
     "metadata": {},
     "output_type": "execute_result"
    }
   ],
   "source": [
    "application_df_encoded.shape"
   ]
  },
  {
   "cell_type": "code",
   "execution_count": 43,
   "id": "250058d2-1217-48cc-ada6-93a421b2bdde",
   "metadata": {},
   "outputs": [],
   "source": [
    "X=application_df_encoded.drop(['IS_SUCCESSFUL'],axis=1)\n",
    "y=application_df_encoded['IS_SUCCESSFUL']"
   ]
  },
  {
   "cell_type": "code",
   "execution_count": 44,
   "id": "a8bc72dd-49eb-4daa-b3a8-89396a53cc92",
   "metadata": {},
   "outputs": [
    {
     "data": {
      "text/plain": [
       "(34268, 48)"
      ]
     },
     "execution_count": 44,
     "metadata": {},
     "output_type": "execute_result"
    }
   ],
   "source": [
    "X.shape"
   ]
  },
  {
   "cell_type": "code",
   "execution_count": 45,
   "id": "0f9a982a-fc05-49e0-87e7-0ba476030ad4",
   "metadata": {},
   "outputs": [],
   "source": [
    "# Split the preprocessed data into a training and testing dataset\n",
    "#  YOUR CODE GOES HERE\n",
    "X_train,X_test,y_train,y_test=train_test_split(X,y)"
   ]
  },
  {
   "cell_type": "code",
   "execution_count": 46,
   "id": "67baf9d1-f6fe-4429-93af-82940a00fc88",
   "metadata": {},
   "outputs": [],
   "source": [
    "# Create a StandardScaler instances\n",
    "scaler = MinMaxScaler()\n",
    "\n",
    "# Fit the StandardScaler\n",
    "X_scaler = scaler.fit(X_train)\n",
    "\n",
    "# Scale the data\n",
    "X_train_scaled = X_scaler.transform(X_train)\n",
    "X_test_scaled = X_scaler.transform(X_test)"
   ]
  },
  {
   "cell_type": "markdown",
   "id": "e5ef9d19-cc61-4203-9231-602c78debb7f",
   "metadata": {},
   "source": [
    "### Attempt 1 for optimization selecting different hyperparameters\n"
   ]
  },
  {
   "cell_type": "code",
   "execution_count": 47,
   "id": "882774a0-9bc5-47b4-b542-1cf9d1847ea1",
   "metadata": {},
   "outputs": [
    {
     "name": "stdout",
     "output_type": "stream",
     "text": [
      "Model: \"sequential_1\"\n",
      "_________________________________________________________________\n",
      "Layer (type)                 Output Shape              Param #   \n",
      "=================================================================\n",
      "dense_4 (Dense)              (None, 80)                3920      \n",
      "_________________________________________________________________\n",
      "dense_5 (Dense)              (None, 50)                4050      \n",
      "_________________________________________________________________\n",
      "dense_6 (Dense)              (None, 30)                1530      \n",
      "_________________________________________________________________\n",
      "dense_7 (Dense)              (None, 1)                 31        \n",
      "=================================================================\n",
      "Total params: 9,531\n",
      "Trainable params: 9,531\n",
      "Non-trainable params: 0\n",
      "_________________________________________________________________\n"
     ]
    }
   ],
   "source": [
    "# Define the model - deep neural net, i.e., the number of input features and hidden nodes for each layer.\n",
    "#  YOUR CODE GOES HERE\n",
    "\n",
    "nn = tf.keras.models.Sequential()\n",
    "\n",
    "# First hidden layer\n",
    "#  YOUR CODE GOES HERE\n",
    "nn.add(tf.keras.layers.Dense(units=80,activation='relu',input_dim=48))\n",
    "# Second hidden layer\n",
    "#  YOUR CODE GOES HERE\n",
    "nn.add(tf.keras.layers.Dense(units=50,activation='relu'))\n",
    "nn.add(tf.keras.layers.Dense(units=30,activation='tanh'))\n",
    "# Output layer\n",
    "#  YOUR CODE GOES HERE\n",
    "nn.add(tf.keras.layers.Dense(units=1,activation='sigmoid'))\n",
    "# Check the structure of the model\n",
    "nn.summary()"
   ]
  },
  {
   "cell_type": "code",
   "execution_count": 48,
   "id": "e5be8be8-2c42-4656-8c8f-113e30e3056d",
   "metadata": {},
   "outputs": [
    {
     "name": "stdout",
     "output_type": "stream",
     "text": [
      "Epoch 1/50\n",
      "2571/2571 [==============================] - 4s 1ms/step - loss: 0.6093 - accuracy: 0.6909: 0s - loss: 0\n",
      "Epoch 2/50\n",
      "2571/2571 [==============================] - 4s 2ms/step - loss: 0.5717 - accuracy: 0.7222\n",
      "Epoch 3/50\n",
      "2571/2571 [==============================] - 5s 2ms/step - loss: 0.5620 - accuracy: 0.7247\n",
      "Epoch 4/50\n",
      "2571/2571 [==============================] - 4s 2ms/step - loss: 0.5581 - accuracy: 0.7257: 1s - l\n",
      "Epoch 5/50\n",
      "2571/2571 [==============================] - 3s 1ms/step - loss: 0.5559 - accuracy: 0.7277\n",
      "Epoch 6/50\n",
      "2571/2571 [==============================] - 3s 1ms/step - loss: 0.5538 - accuracy: 0.7286\n",
      "Epoch 7/50\n",
      "2571/2571 [==============================] - 4s 2ms/step - loss: 0.5523 - accuracy: 0.7299\n",
      "Epoch 8/50\n",
      "2571/2571 [==============================] - 4s 2ms/step - loss: 0.5519 - accuracy: 0.7288\n",
      "Epoch 9/50\n",
      "2571/2571 [==============================] - 4s 1ms/step - loss: 0.5507 - accuracy: 0.7287\n",
      "Epoch 10/50\n",
      "2571/2571 [==============================] - 3s 1ms/step - loss: 0.5506 - accuracy: 0.7295\n",
      "Epoch 11/50\n",
      "2571/2571 [==============================] - 3s 1ms/step - loss: 0.5498 - accuracy: 0.7302\n",
      "Epoch 12/50\n",
      "2571/2571 [==============================] - 3s 1ms/step - loss: 0.5489 - accuracy: 0.7306\n",
      "Epoch 13/50\n",
      "2571/2571 [==============================] - 4s 2ms/step - loss: 0.5486 - accuracy: 0.7304\n",
      "Epoch 14/50\n",
      "2571/2571 [==============================] - 4s 1ms/step - loss: 0.5481 - accuracy: 0.7311\n",
      "Epoch 15/50\n",
      "2571/2571 [==============================] - 4s 1ms/step - loss: 0.5471 - accuracy: 0.7316: 0s - loss:\n",
      "Epoch 16/50\n",
      "2571/2571 [==============================] - 4s 1ms/step - loss: 0.5478 - accuracy: 0.7319\n",
      "Epoch 17/50\n",
      "2571/2571 [==============================] - 3s 1ms/step - loss: 0.5471 - accuracy: 0.7316\n",
      "Epoch 18/50\n",
      "2571/2571 [==============================] - 4s 1ms/step - loss: 0.5468 - accuracy: 0.7329: 0s - loss: 0.5466 - accuracy: 0.\n",
      "Epoch 19/50\n",
      "2571/2571 [==============================] - 4s 2ms/step - loss: 0.5468 - accuracy: 0.7323\n",
      "Epoch 20/50\n",
      "2571/2571 [==============================] - 4s 1ms/step - loss: 0.5459 - accuracy: 0.7320\n",
      "Epoch 21/50\n",
      "2571/2571 [==============================] - 3s 1ms/step - loss: 0.5454 - accuracy: 0.7334\n",
      "Epoch 22/50\n",
      "2571/2571 [==============================] - 3s 1ms/step - loss: 0.5457 - accuracy: 0.7323\n",
      "Epoch 23/50\n",
      "2571/2571 [==============================] - 3s 1ms/step - loss: 0.5454 - accuracy: 0.7325\n",
      "Epoch 24/50\n",
      "2571/2571 [==============================] - 4s 1ms/step - loss: 0.5454 - accuracy: 0.7326\n",
      "Epoch 25/50\n",
      "2571/2571 [==============================] - 3s 1ms/step - loss: 0.5450 - accuracy: 0.7335\n",
      "Epoch 26/50\n",
      "2571/2571 [==============================] - 3s 1ms/step - loss: 0.5446 - accuracy: 0.7334\n",
      "Epoch 27/50\n",
      "2571/2571 [==============================] - 4s 1ms/step - loss: 0.5445 - accuracy: 0.7330\n",
      "Epoch 28/50\n",
      "2571/2571 [==============================] - 4s 1ms/step - loss: 0.5444 - accuracy: 0.7336\n",
      "Epoch 29/50\n",
      "2571/2571 [==============================] - 3s 1ms/step - loss: 0.5444 - accuracy: 0.7345\n",
      "Epoch 30/50\n",
      "2571/2571 [==============================] - 4s 1ms/step - loss: 0.5441 - accuracy: 0.7350: 1s - l\n",
      "Epoch 31/50\n",
      "2571/2571 [==============================] - 3s 1ms/step - loss: 0.5437 - accuracy: 0.7334\n",
      "Epoch 32/50\n",
      "2571/2571 [==============================] - 4s 1ms/step - loss: 0.5438 - accuracy: 0.7337\n",
      "Epoch 33/50\n",
      "2571/2571 [==============================] - 3s 1ms/step - loss: 0.5435 - accuracy: 0.7339\n",
      "Epoch 34/50\n",
      "2571/2571 [==============================] - 3s 1ms/step - loss: 0.5434 - accuracy: 0.7350\n",
      "Epoch 35/50\n",
      "2571/2571 [==============================] - 3s 1ms/step - loss: 0.5428 - accuracy: 0.7353\n",
      "Epoch 36/50\n",
      "2571/2571 [==============================] - 4s 1ms/step - loss: 0.5433 - accuracy: 0.7336\n",
      "Epoch 37/50\n",
      "2571/2571 [==============================] - 3s 1ms/step - loss: 0.5426 - accuracy: 0.7350\n",
      "Epoch 38/50\n",
      "2571/2571 [==============================] - 3s 1ms/step - loss: 0.5426 - accuracy: 0.7358\n",
      "Epoch 39/50\n",
      "2571/2571 [==============================] - 3s 1ms/step - loss: 0.5425 - accuracy: 0.7343\n",
      "Epoch 40/50\n",
      "2571/2571 [==============================] - 3s 1ms/step - loss: 0.5428 - accuracy: 0.7358: 0s - loss: 0.5435 \n",
      "Epoch 41/50\n",
      "2571/2571 [==============================] - 3s 1ms/step - loss: 0.5425 - accuracy: 0.7352\n",
      "Epoch 42/50\n",
      "2571/2571 [==============================] - 4s 1ms/step - loss: 0.5422 - accuracy: 0.7337\n",
      "Epoch 43/50\n",
      "2571/2571 [==============================] - 4s 1ms/step - loss: 0.5425 - accuracy: 0.7341\n",
      "Epoch 44/50\n",
      "2571/2571 [==============================] - 3s 1ms/step - loss: 0.5423 - accuracy: 0.7360\n",
      "Epoch 45/50\n",
      "2571/2571 [==============================] - 4s 1ms/step - loss: 0.5415 - accuracy: 0.7364\n",
      "Epoch 46/50\n",
      "2571/2571 [==============================] - 3s 1ms/step - loss: 0.5414 - accuracy: 0.7364\n",
      "Epoch 47/50\n",
      "2571/2571 [==============================] - 3s 1ms/step - loss: 0.5412 - accuracy: 0.7365\n",
      "Epoch 48/50\n",
      "2571/2571 [==============================] - 3s 1ms/step - loss: 0.5413 - accuracy: 0.7353\n",
      "Epoch 49/50\n",
      "2571/2571 [==============================] - 3s 1ms/step - loss: 0.5411 - accuracy: 0.7357\n",
      "Epoch 50/50\n",
      "2571/2571 [==============================] - 4s 2ms/step - loss: 0.5411 - accuracy: 0.7357\n"
     ]
    }
   ],
   "source": [
    "nn.compile(loss='binary_crossentropy',optimizer=tf.keras.optimizers.SGD(learning_rate=0.01),metrics=['accuracy'])\n",
    "\n",
    "# Train the model\n",
    "#  YOUR CODE GOES HERE\n",
    "fit_model=nn.fit(X_train_scaled,y_train,batch_size=10,shuffle=True,epochs=50)"
   ]
  },
  {
   "cell_type": "code",
   "execution_count": 26,
   "id": "bffafd77-adbb-4d6b-997c-99f9e7169be6",
   "metadata": {},
   "outputs": [
    {
     "name": "stdout",
     "output_type": "stream",
     "text": [
      "268/268 - 0s - loss: 0.5526 - accuracy: 0.7246\n",
      "Loss: 0.5526270866394043, Accuracy: 0.7246410846710205\n"
     ]
    }
   ],
   "source": [
    "# Evaluate the model using the test data\n",
    "model_loss, model_accuracy = nn.evaluate(X_test_scaled,y_test,verbose=2)\n",
    "print(f\"Loss: {model_loss}, Accuracy: {model_accuracy}\")"
   ]
  },
  {
   "cell_type": "code",
   "execution_count": 27,
   "id": "aaf9b131-3499-4df0-9fae-3eb073c2448a",
   "metadata": {},
   "outputs": [],
   "source": [
    "from tensorflow import keras\n",
    "nn.save('Optimizer/AlphabetSoupCharity_Optimization1.h5')\n",
    "nn_model = keras.models.load_model('Optimizer/AlphabetSoupCharity_Optimization1.h5')"
   ]
  },
  {
   "cell_type": "markdown",
   "id": "9e380e1a-9878-4b4e-8ad8-26289c2b9323",
   "metadata": {},
   "source": [
    "### Attempt2 for model optimizationm"
   ]
  },
  {
   "cell_type": "code",
   "execution_count": 51,
   "id": "4b916149-d2c1-4768-9739-47f694e96dea",
   "metadata": {},
   "outputs": [
    {
     "name": "stdout",
     "output_type": "stream",
     "text": [
      "Model: \"sequential_3\"\n",
      "_________________________________________________________________\n",
      "Layer (type)                 Output Shape              Param #   \n",
      "=================================================================\n",
      "dense_13 (Dense)             (None, 70)                3430      \n",
      "_________________________________________________________________\n",
      "dense_14 (Dense)             (None, 70)                4970      \n",
      "_________________________________________________________________\n",
      "dense_15 (Dense)             (None, 70)                4970      \n",
      "_________________________________________________________________\n",
      "dense_16 (Dense)             (None, 70)                4970      \n",
      "_________________________________________________________________\n",
      "dense_17 (Dense)             (None, 1)                 71        \n",
      "=================================================================\n",
      "Total params: 18,411\n",
      "Trainable params: 18,411\n",
      "Non-trainable params: 0\n",
      "_________________________________________________________________\n"
     ]
    }
   ],
   "source": [
    "# Define the model - deep neural net, i.e., the number of input features and hidden nodes for each layer.\n",
    "#  YOUR CODE GOES HERE\n",
    "\n",
    "nn = tf.keras.models.Sequential()\n",
    "\n",
    "# First hidden layer\n",
    "#  YOUR CODE GOES HERE\n",
    "nn.add(tf.keras.layers.Dense(units=70,activation='relu',input_dim=48))\n",
    "# Second hidden layer\n",
    "#  YOUR CODE GOES HERE\n",
    "nn.add(tf.keras.layers.Dense(units=70,activation='relu'))\n",
    "nn.add(tf.keras.layers.Dense(units=70,activation='relu'))\n",
    "nn.add(tf.keras.layers.Dense(units=70,activation='relu'))\n",
    "# Output layer\n",
    "#  YOUR CODE GOES HERE\n",
    "nn.add(tf.keras.layers.Dense(units=1,activation='sigmoid'))\n",
    "# Check the structure of the model\n",
    "nn.summary()"
   ]
  },
  {
   "cell_type": "code",
   "execution_count": 52,
   "id": "6a0c7223-4f1d-475e-b140-b19bf39c4f97",
   "metadata": {},
   "outputs": [
    {
     "name": "stdout",
     "output_type": "stream",
     "text": [
      "Epoch 1/50\n",
      "2571/2571 [==============================] - 4s 1ms/step - loss: 0.6040 - accuracy: 0.6943\n",
      "Epoch 2/50\n",
      "2571/2571 [==============================] - 4s 2ms/step - loss: 0.5682 - accuracy: 0.7241\n",
      "Epoch 3/50\n",
      "2571/2571 [==============================] - 3s 1ms/step - loss: 0.5617 - accuracy: 0.7255: 0s - l\n",
      "Epoch 4/50\n",
      "2571/2571 [==============================] - 3s 1ms/step - loss: 0.5582 - accuracy: 0.7271\n",
      "Epoch 5/50\n",
      "2571/2571 [==============================] - 3s 1ms/step - loss: 0.5558 - accuracy: 0.7280\n",
      "Epoch 6/50\n",
      "2571/2571 [==============================] - 3s 1ms/step - loss: 0.5540 - accuracy: 0.7279\n",
      "Epoch 7/50\n",
      "2571/2571 [==============================] - 4s 2ms/step - loss: 0.5529 - accuracy: 0.7291\n",
      "Epoch 8/50\n",
      "2571/2571 [==============================] - 3s 1ms/step - loss: 0.5521 - accuracy: 0.7297\n",
      "Epoch 9/50\n",
      "2571/2571 [==============================] - 3s 1ms/step - loss: 0.5510 - accuracy: 0.7290\n",
      "Epoch 10/50\n",
      "2571/2571 [==============================] - 3s 1ms/step - loss: 0.5502 - accuracy: 0.7310\n",
      "Epoch 11/50\n",
      "2571/2571 [==============================] - 3s 1ms/step - loss: 0.5497 - accuracy: 0.7314\n",
      "Epoch 12/50\n",
      "2571/2571 [==============================] - 4s 1ms/step - loss: 0.5492 - accuracy: 0.7310\n",
      "Epoch 13/50\n",
      "2571/2571 [==============================] - 4s 2ms/step - loss: 0.5489 - accuracy: 0.7316\n",
      "Epoch 14/50\n",
      "2571/2571 [==============================] - 4s 1ms/step - loss: 0.5480 - accuracy: 0.7320\n",
      "Epoch 15/50\n",
      "2571/2571 [==============================] - 4s 2ms/step - loss: 0.5477 - accuracy: 0.7299\n",
      "Epoch 16/50\n",
      "2571/2571 [==============================] - 4s 1ms/step - loss: 0.5472 - accuracy: 0.7330\n",
      "Epoch 17/50\n",
      "2571/2571 [==============================] - 4s 1ms/step - loss: 0.5468 - accuracy: 0.7331: 0s - loss: 0.5\n",
      "Epoch 18/50\n",
      "2571/2571 [==============================] - 3s 1ms/step - loss: 0.5467 - accuracy: 0.7314\n",
      "Epoch 19/50\n",
      "2571/2571 [==============================] - 4s 1ms/step - loss: 0.5458 - accuracy: 0.7322\n",
      "Epoch 20/50\n",
      "2571/2571 [==============================] - 3s 1ms/step - loss: 0.5458 - accuracy: 0.7328\n",
      "Epoch 21/50\n",
      "2571/2571 [==============================] - 3s 1ms/step - loss: 0.5455 - accuracy: 0.7316\n",
      "Epoch 22/50\n",
      "2571/2571 [==============================] - 3s 1ms/step - loss: 0.5453 - accuracy: 0.7332\n",
      "Epoch 23/50\n",
      "2571/2571 [==============================] - 3s 1ms/step - loss: 0.5450 - accuracy: 0.7312\n",
      "Epoch 24/50\n",
      "2571/2571 [==============================] - 3s 1ms/step - loss: 0.5448 - accuracy: 0.7337\n",
      "Epoch 25/50\n",
      "2571/2571 [==============================] - 3s 1ms/step - loss: 0.5445 - accuracy: 0.7326\n",
      "Epoch 26/50\n",
      "2571/2571 [==============================] - 3s 1ms/step - loss: 0.5445 - accuracy: 0.7322\n",
      "Epoch 27/50\n",
      "2571/2571 [==============================] - 3s 1ms/step - loss: 0.5443 - accuracy: 0.7339: 0s - loss: 0.5441 - accuracy\n",
      "Epoch 28/50\n",
      "2571/2571 [==============================] - 3s 1ms/step - loss: 0.5435 - accuracy: 0.7331\n",
      "Epoch 29/50\n",
      "2571/2571 [==============================] - 3s 1ms/step - loss: 0.5437 - accuracy: 0.7346\n",
      "Epoch 30/50\n",
      "2571/2571 [==============================] - 3s 1ms/step - loss: 0.5432 - accuracy: 0.7350\n",
      "Epoch 31/50\n",
      "2571/2571 [==============================] - 3s 1ms/step - loss: 0.5434 - accuracy: 0.7350\n",
      "Epoch 32/50\n",
      "2571/2571 [==============================] - 3s 1ms/step - loss: 0.5429 - accuracy: 0.7344\n",
      "Epoch 33/50\n",
      "2571/2571 [==============================] - 3s 1ms/step - loss: 0.5427 - accuracy: 0.7351\n",
      "Epoch 34/50\n",
      "2571/2571 [==============================] - 3s 1ms/step - loss: 0.5424 - accuracy: 0.7337\n",
      "Epoch 35/50\n",
      "2571/2571 [==============================] - 3s 1ms/step - loss: 0.5420 - accuracy: 0.7348\n",
      "Epoch 36/50\n",
      "2571/2571 [==============================] - 3s 1ms/step - loss: 0.5423 - accuracy: 0.7355\n",
      "Epoch 37/50\n",
      "2571/2571 [==============================] - 3s 1ms/step - loss: 0.5419 - accuracy: 0.7339\n",
      "Epoch 38/50\n",
      "2571/2571 [==============================] - 3s 1ms/step - loss: 0.5414 - accuracy: 0.7362\n",
      "Epoch 39/50\n",
      "2571/2571 [==============================] - 3s 1ms/step - loss: 0.5416 - accuracy: 0.7369\n",
      "Epoch 40/50\n",
      "2571/2571 [==============================] - 3s 1ms/step - loss: 0.5418 - accuracy: 0.7341\n",
      "Epoch 41/50\n",
      "2571/2571 [==============================] - 3s 1ms/step - loss: 0.5411 - accuracy: 0.7357\n",
      "Epoch 42/50\n",
      "2571/2571 [==============================] - 3s 1ms/step - loss: 0.5415 - accuracy: 0.7354\n",
      "Epoch 43/50\n",
      "2571/2571 [==============================] - 3s 1ms/step - loss: 0.5411 - accuracy: 0.7358\n",
      "Epoch 44/50\n",
      "2571/2571 [==============================] - 3s 1ms/step - loss: 0.5409 - accuracy: 0.7356\n",
      "Epoch 45/50\n",
      "2571/2571 [==============================] - 3s 1ms/step - loss: 0.5410 - accuracy: 0.7369\n",
      "Epoch 46/50\n",
      "2571/2571 [==============================] - 3s 1ms/step - loss: 0.5405 - accuracy: 0.7340\n",
      "Epoch 47/50\n",
      "2571/2571 [==============================] - 3s 1ms/step - loss: 0.5408 - accuracy: 0.7357\n",
      "Epoch 48/50\n",
      "2571/2571 [==============================] - 3s 1ms/step - loss: 0.5404 - accuracy: 0.7369\n",
      "Epoch 49/50\n",
      "2571/2571 [==============================] - 3s 1ms/step - loss: 0.5403 - accuracy: 0.7362\n",
      "Epoch 50/50\n",
      "2571/2571 [==============================] - 3s 1ms/step - loss: 0.5398 - accuracy: 0.7374\n"
     ]
    }
   ],
   "source": [
    "nn.compile(loss='binary_crossentropy',optimizer=tf.keras.optimizers.SGD(learning_rate=0.01),metrics=['accuracy'])\n",
    "\n",
    "# Train the model\n",
    "#  YOUR CODE GOES HERE\n",
    "fit_model=nn.fit(X_train_scaled,y_train,batch_size=10,shuffle=True,epochs=50)"
   ]
  },
  {
   "cell_type": "code",
   "execution_count": 53,
   "id": "918c894d-cb88-4a43-b619-e31c5e54ea19",
   "metadata": {},
   "outputs": [
    {
     "name": "stdout",
     "output_type": "stream",
     "text": [
      "268/268 - 1s - loss: 0.5443 - accuracy: 0.7313\n",
      "Loss: 0.5443289279937744, Accuracy: 0.7312945127487183\n"
     ]
    }
   ],
   "source": [
    "model_loss, model_accuracy = nn.evaluate(X_test_scaled,y_test,verbose=2)\n",
    "print(f\"Loss: {model_loss}, Accuracy: {model_accuracy}\")"
   ]
  },
  {
   "cell_type": "code",
   "execution_count": 54,
   "id": "20e66319-6f06-4843-93c4-1bf401b4a7da",
   "metadata": {},
   "outputs": [],
   "source": [
    "from tensorflow import keras\n",
    "nn.save('Optimizer/AlphabetSoupCharity_Optimization2.h5')\n",
    "nn_model = keras.models.load_model('Optimizer/AlphabetSoupCharity_Optimization2.h5')"
   ]
  },
  {
   "cell_type": "markdown",
   "id": "be40214f-6eaa-4418-b52b-9f1bc9450b1f",
   "metadata": {},
   "source": [
    "### Attempt3 for model optimization"
   ]
  },
  {
   "cell_type": "code",
   "execution_count": 60,
   "id": "ebb87f4b-563f-4666-a714-d5b998b41bfa",
   "metadata": {},
   "outputs": [
    {
     "name": "stdout",
     "output_type": "stream",
     "text": [
      "Model: \"sequential_6\"\n",
      "_________________________________________________________________\n",
      "Layer (type)                 Output Shape              Param #   \n",
      "=================================================================\n",
      "dense_28 (Dense)             (None, 90)                4410      \n",
      "_________________________________________________________________\n",
      "dense_29 (Dense)             (None, 90)                8190      \n",
      "_________________________________________________________________\n",
      "dense_30 (Dense)             (None, 90)                8190      \n",
      "_________________________________________________________________\n",
      "dense_31 (Dense)             (None, 90)                8190      \n",
      "_________________________________________________________________\n",
      "dense_32 (Dense)             (None, 1)                 91        \n",
      "=================================================================\n",
      "Total params: 29,071\n",
      "Trainable params: 29,071\n",
      "Non-trainable params: 0\n",
      "_________________________________________________________________\n"
     ]
    }
   ],
   "source": [
    "# Define the model - deep neural net, i.e., the number of input features and hidden nodes for each layer.\n",
    "#  YOUR CODE GOES HERE\n",
    "\n",
    "nn = tf.keras.models.Sequential()\n",
    "\n",
    "# First hidden layer\n",
    "#  YOUR CODE GOES HERE\n",
    "nn.add(tf.keras.layers.Dense(units=90,activation='relu',input_dim=48))\n",
    "# Second hidden layer\n",
    "#  YOUR CODE GOES HERE\n",
    "nn.add(tf.keras.layers.Dense(units=90,activation='relu'))\n",
    "nn.add(tf.keras.layers.Dense(units=90,activation='relu'))\n",
    "nn.add(tf.keras.layers.Dense(units=90,activation='relu'))\n",
    "\n",
    "\n",
    "# Output layer\n",
    "#  YOUR CODE GOES HERE\n",
    "nn.add(tf.keras.layers.Dense(units=1,activation='sigmoid'))\n",
    "# Check the structure of the model\n",
    "nn.summary()"
   ]
  },
  {
   "cell_type": "code",
   "execution_count": 66,
   "id": "3c64a185-597f-46fc-8394-cdd17cf2fa21",
   "metadata": {},
   "outputs": [
    {
     "name": "stdout",
     "output_type": "stream",
     "text": [
      "Epoch 1/100\n",
      "804/804 [==============================] - 2s 2ms/step - loss: 0.5398 - accuracy: 0.7363\n",
      "Epoch 2/100\n",
      "804/804 [==============================] - 1s 2ms/step - loss: 0.5381 - accuracy: 0.7367\n",
      "Epoch 3/100\n",
      "804/804 [==============================] - 2s 2ms/step - loss: 0.5378 - accuracy: 0.7381\n",
      "Epoch 4/100\n",
      "804/804 [==============================] - 2s 2ms/step - loss: 0.5375 - accuracy: 0.7375\n",
      "Epoch 5/100\n",
      "804/804 [==============================] - 2s 2ms/step - loss: 0.5362 - accuracy: 0.7379: 0s - loss: 0.535\n",
      "Epoch 6/100\n",
      "804/804 [==============================] - 1s 2ms/step - loss: 0.5358 - accuracy: 0.7376\n",
      "Epoch 7/100\n",
      "804/804 [==============================] - 2s 2ms/step - loss: 0.5357 - accuracy: 0.7384\n",
      "Epoch 8/100\n",
      "804/804 [==============================] - 2s 2ms/step - loss: 0.5351 - accuracy: 0.7387\n",
      "Epoch 9/100\n",
      "804/804 [==============================] - 2s 2ms/step - loss: 0.5345 - accuracy: 0.7383: 0s - loss: 0.5331 - \n",
      "Epoch 10/100\n",
      "804/804 [==============================] - 2s 2ms/step - loss: 0.5344 - accuracy: 0.7396\n",
      "Epoch 11/100\n",
      "804/804 [==============================] - 1s 2ms/step - loss: 0.5340 - accuracy: 0.7385: 0s - loss: 0.5341 - accuracy: 0.\n",
      "Epoch 12/100\n",
      "804/804 [==============================] - 2s 2ms/step - loss: 0.5337 - accuracy: 0.7404\n",
      "Epoch 13/100\n",
      "804/804 [==============================] - 2s 2ms/step - loss: 0.5336 - accuracy: 0.7397\n",
      "Epoch 14/100\n",
      "804/804 [==============================] - 2s 2ms/step - loss: 0.5325 - accuracy: 0.7390\n",
      "Epoch 15/100\n",
      "804/804 [==============================] - 1s 2ms/step - loss: 0.5331 - accuracy: 0.7402\n",
      "Epoch 16/100\n",
      "804/804 [==============================] - 2s 2ms/step - loss: 0.5327 - accuracy: 0.7396\n",
      "Epoch 17/100\n",
      "804/804 [==============================] - 1s 2ms/step - loss: 0.5315 - accuracy: 0.7417\n",
      "Epoch 18/100\n",
      "804/804 [==============================] - 2s 2ms/step - loss: 0.5318 - accuracy: 0.7411\n",
      "Epoch 19/100\n",
      "804/804 [==============================] - 2s 2ms/step - loss: 0.5315 - accuracy: 0.7404\n",
      "Epoch 20/100\n",
      "804/804 [==============================] - 1s 2ms/step - loss: 0.5317 - accuracy: 0.7404\n",
      "Epoch 21/100\n",
      "804/804 [==============================] - 2s 2ms/step - loss: 0.5313 - accuracy: 0.7414\n",
      "Epoch 22/100\n",
      "804/804 [==============================] - 2s 2ms/step - loss: 0.5318 - accuracy: 0.7392\n",
      "Epoch 23/100\n",
      "804/804 [==============================] - 2s 2ms/step - loss: 0.5326 - accuracy: 0.7402\n",
      "Epoch 24/100\n",
      "804/804 [==============================] - 1s 2ms/step - loss: 0.5304 - accuracy: 0.7411\n",
      "Epoch 25/100\n",
      "804/804 [==============================] - 2s 2ms/step - loss: 0.5303 - accuracy: 0.7417\n",
      "Epoch 26/100\n",
      "804/804 [==============================] - 2s 2ms/step - loss: 0.5303 - accuracy: 0.7407\n",
      "Epoch 27/100\n",
      "804/804 [==============================] - 2s 3ms/step - loss: 0.5300 - accuracy: 0.7408\n",
      "Epoch 28/100\n",
      "804/804 [==============================] - 2s 2ms/step - loss: 0.5305 - accuracy: 0.7411\n",
      "Epoch 29/100\n",
      "804/804 [==============================] - 2s 2ms/step - loss: 0.5301 - accuracy: 0.7405\n",
      "Epoch 30/100\n",
      "804/804 [==============================] - 2s 2ms/step - loss: 0.5296 - accuracy: 0.7405\n",
      "Epoch 31/100\n",
      "804/804 [==============================] - 1s 2ms/step - loss: 0.5292 - accuracy: 0.7416\n",
      "Epoch 32/100\n",
      "804/804 [==============================] - 1s 2ms/step - loss: 0.5294 - accuracy: 0.7420\n",
      "Epoch 33/100\n",
      "804/804 [==============================] - 1s 2ms/step - loss: 0.5306 - accuracy: 0.7400\n",
      "Epoch 34/100\n",
      "804/804 [==============================] - 1s 2ms/step - loss: 0.5311 - accuracy: 0.7405\n",
      "Epoch 35/100\n",
      "804/804 [==============================] - 1s 2ms/step - loss: 0.5292 - accuracy: 0.7414\n",
      "Epoch 36/100\n",
      "804/804 [==============================] - 1s 2ms/step - loss: 0.5288 - accuracy: 0.7406\n",
      "Epoch 37/100\n",
      "804/804 [==============================] - 1s 2ms/step - loss: 0.5286 - accuracy: 0.7416\n",
      "Epoch 38/100\n",
      "804/804 [==============================] - 1s 2ms/step - loss: 0.5295 - accuracy: 0.7414\n",
      "Epoch 39/100\n",
      "804/804 [==============================] - 1s 2ms/step - loss: 0.5294 - accuracy: 0.7418\n",
      "Epoch 40/100\n",
      "804/804 [==============================] - 1s 2ms/step - loss: 0.5285 - accuracy: 0.7417\n",
      "Epoch 41/100\n",
      "804/804 [==============================] - 1s 2ms/step - loss: 0.5286 - accuracy: 0.7416\n",
      "Epoch 42/100\n",
      "804/804 [==============================] - 1s 2ms/step - loss: 0.5291 - accuracy: 0.7418: 0s -\n",
      "Epoch 43/100\n",
      "804/804 [==============================] - 1s 2ms/step - loss: 0.5283 - accuracy: 0.7420\n",
      "Epoch 44/100\n",
      "804/804 [==============================] - 1s 2ms/step - loss: 0.5289 - accuracy: 0.7424\n",
      "Epoch 45/100\n",
      "804/804 [==============================] - 1s 2ms/step - loss: 0.5288 - accuracy: 0.7416\n",
      "Epoch 46/100\n",
      "804/804 [==============================] - 1s 2ms/step - loss: 0.5284 - accuracy: 0.7418\n",
      "Epoch 47/100\n",
      "804/804 [==============================] - 1s 2ms/step - loss: 0.5279 - accuracy: 0.7419\n",
      "Epoch 48/100\n",
      "804/804 [==============================] - 1s 2ms/step - loss: 0.5290 - accuracy: 0.7417\n",
      "Epoch 49/100\n",
      "804/804 [==============================] - 1s 2ms/step - loss: 0.5285 - accuracy: 0.7415\n",
      "Epoch 50/100\n",
      "804/804 [==============================] - 1s 2ms/step - loss: 0.5282 - accuracy: 0.7415\n",
      "Epoch 51/100\n",
      "804/804 [==============================] - 1s 2ms/step - loss: 0.5279 - accuracy: 0.7414\n",
      "Epoch 52/100\n",
      "804/804 [==============================] - 1s 2ms/step - loss: 0.5278 - accuracy: 0.7420\n",
      "Epoch 53/100\n",
      "804/804 [==============================] - 1s 2ms/step - loss: 0.5275 - accuracy: 0.7422\n",
      "Epoch 54/100\n",
      "804/804 [==============================] - 1s 2ms/step - loss: 0.5280 - accuracy: 0.7426\n",
      "Epoch 55/100\n",
      "804/804 [==============================] - 1s 2ms/step - loss: 0.5286 - accuracy: 0.7420\n",
      "Epoch 56/100\n",
      "804/804 [==============================] - 1s 2ms/step - loss: 0.5276 - accuracy: 0.7417\n",
      "Epoch 57/100\n",
      "804/804 [==============================] - 1s 2ms/step - loss: 0.5277 - accuracy: 0.7425: 0s - loss: 0.5241 - ac\n",
      "Epoch 58/100\n",
      "804/804 [==============================] - 1s 2ms/step - loss: 0.5277 - accuracy: 0.7417\n",
      "Epoch 59/100\n",
      "804/804 [==============================] - 1s 2ms/step - loss: 0.5288 - accuracy: 0.7423\n",
      "Epoch 60/100\n",
      "804/804 [==============================] - 1s 2ms/step - loss: 0.5277 - accuracy: 0.7418\n",
      "Epoch 61/100\n",
      "804/804 [==============================] - 1s 2ms/step - loss: 0.5282 - accuracy: 0.7418: \n",
      "Epoch 62/100\n",
      "804/804 [==============================] - 2s 2ms/step - loss: 0.5272 - accuracy: 0.7426\n",
      "Epoch 63/100\n",
      "804/804 [==============================] - 2s 2ms/step - loss: 0.5273 - accuracy: 0.7423\n",
      "Epoch 64/100\n",
      "804/804 [==============================] - 2s 2ms/step - loss: 0.5272 - accuracy: 0.7415\n",
      "Epoch 65/100\n",
      "804/804 [==============================] - 1s 2ms/step - loss: 0.5283 - accuracy: 0.7424\n",
      "Epoch 66/100\n",
      "804/804 [==============================] - 2s 2ms/step - loss: 0.5268 - accuracy: 0.7423\n",
      "Epoch 67/100\n",
      "804/804 [==============================] - 2s 3ms/step - loss: 0.5272 - accuracy: 0.7424: 0s - loss: 0.5\n",
      "Epoch 68/100\n",
      "804/804 [==============================] - 2s 2ms/step - loss: 0.5270 - accuracy: 0.7430\n",
      "Epoch 69/100\n",
      "804/804 [==============================] - 1s 2ms/step - loss: 0.5270 - accuracy: 0.7434\n",
      "Epoch 70/100\n",
      "804/804 [==============================] - 2s 2ms/step - loss: 0.5273 - accuracy: 0.7418: 0s - los\n",
      "Epoch 71/100\n",
      "804/804 [==============================] - 2s 2ms/step - loss: 0.5275 - accuracy: 0.7422\n",
      "Epoch 72/100\n",
      "804/804 [==============================] - 2s 2ms/step - loss: 0.5280 - accuracy: 0.7425\n",
      "Epoch 73/100\n",
      "804/804 [==============================] - 2s 2ms/step - loss: 0.5265 - accuracy: 0.7420\n",
      "Epoch 74/100\n",
      "804/804 [==============================] - 2s 2ms/step - loss: 0.5264 - accuracy: 0.7429\n",
      "Epoch 75/100\n",
      "804/804 [==============================] - 2s 2ms/step - loss: 0.5267 - accuracy: 0.7422\n",
      "Epoch 76/100\n",
      "804/804 [==============================] - 2s 2ms/step - loss: 0.5270 - accuracy: 0.7422\n",
      "Epoch 77/100\n",
      "804/804 [==============================] - 1s 2ms/step - loss: 0.5268 - accuracy: 0.7422\n",
      "Epoch 78/100\n",
      "804/804 [==============================] - 2s 2ms/step - loss: 0.5271 - accuracy: 0.7429\n",
      "Epoch 79/100\n",
      "804/804 [==============================] - 1s 2ms/step - loss: 0.5269 - accuracy: 0.7425\n",
      "Epoch 80/100\n",
      "804/804 [==============================] - 1s 2ms/step - loss: 0.5293 - accuracy: 0.7418\n",
      "Epoch 81/100\n",
      "804/804 [==============================] - 1s 2ms/step - loss: 0.5290 - accuracy: 0.7416\n",
      "Epoch 82/100\n",
      "804/804 [==============================] - 1s 2ms/step - loss: 0.5264 - accuracy: 0.7422\n",
      "Epoch 83/100\n",
      "804/804 [==============================] - 1s 2ms/step - loss: 0.5261 - accuracy: 0.7418: 0s - loss:\n",
      "Epoch 84/100\n",
      "804/804 [==============================] - 1s 2ms/step - loss: 0.5268 - accuracy: 0.7428\n",
      "Epoch 85/100\n",
      "804/804 [==============================] - 1s 2ms/step - loss: 0.5272 - accuracy: 0.7429\n",
      "Epoch 86/100\n",
      "804/804 [==============================] - 1s 2ms/step - loss: 0.5272 - accuracy: 0.7425\n",
      "Epoch 87/100\n",
      "804/804 [==============================] - 1s 2ms/step - loss: 0.5270 - accuracy: 0.7426\n",
      "Epoch 88/100\n",
      "804/804 [==============================] - 1s 2ms/step - loss: 0.5266 - accuracy: 0.7429\n",
      "Epoch 89/100\n",
      "804/804 [==============================] - 1s 2ms/step - loss: 0.5261 - accuracy: 0.7427\n",
      "Epoch 90/100\n",
      "804/804 [==============================] - 1s 2ms/step - loss: 0.5273 - accuracy: 0.7426: 1s - loss: 0.5282  - ETA: 0s - loss:\n",
      "Epoch 91/100\n",
      "804/804 [==============================] - 1s 2ms/step - loss: 0.5266 - accuracy: 0.7427\n",
      "Epoch 92/100\n",
      "804/804 [==============================] - 1s 2ms/step - loss: 0.5268 - accuracy: 0.7425\n",
      "Epoch 93/100\n",
      "804/804 [==============================] - 1s 2ms/step - loss: 0.5265 - accuracy: 0.7428\n",
      "Epoch 94/100\n",
      "804/804 [==============================] - 1s 2ms/step - loss: 0.5269 - accuracy: 0.7422: 0s - loss: 0.5275 - accu\n",
      "Epoch 95/100\n",
      "804/804 [==============================] - 1s 2ms/step - loss: 0.5268 - accuracy: 0.7425\n",
      "Epoch 96/100\n",
      "804/804 [==============================] - 1s 2ms/step - loss: 0.5267 - accuracy: 0.7423\n",
      "Epoch 97/100\n",
      "804/804 [==============================] - 1s 2ms/step - loss: 0.5266 - accuracy: 0.7428: 0s - loss: 0\n",
      "Epoch 98/100\n",
      "804/804 [==============================] - 1s 2ms/step - loss: 0.5271 - accuracy: 0.7405\n",
      "Epoch 99/100\n",
      "804/804 [==============================] - 1s 2ms/step - loss: 0.5267 - accuracy: 0.7424\n",
      "Epoch 100/100\n",
      "804/804 [==============================] - 1s 2ms/step - loss: 0.5264 - accuracy: 0.7422\n"
     ]
    }
   ],
   "source": [
    "nn.compile(loss='binary_crossentropy',optimizer='adam',metrics=['accuracy'])\n",
    "\n",
    "# Train the model\n",
    "#  YOUR CODE GOES HERE\n",
    "fit_model=nn.fit(X_train_scaled,y_train,epochs=100)"
   ]
  },
  {
   "cell_type": "code",
   "execution_count": 67,
   "id": "7d9e46ca-ac1b-465b-990b-b4632689f995",
   "metadata": {},
   "outputs": [
    {
     "name": "stdout",
     "output_type": "stream",
     "text": [
      "268/268 - 0s - loss: 0.6333 - accuracy: 0.7308\n",
      "Loss: 0.6332539916038513, Accuracy: 0.7308275699615479\n"
     ]
    }
   ],
   "source": [
    "model_loss, model_accuracy = nn.evaluate(X_test_scaled,y_test,verbose=2)\n",
    "print(f\"Loss: {model_loss}, Accuracy: {model_accuracy}\")"
   ]
  },
  {
   "cell_type": "code",
   "execution_count": 71,
   "id": "51a6d08a-eb45-414d-8acd-a63eefe0cc49",
   "metadata": {},
   "outputs": [],
   "source": [
    "from tensorflow import keras\n",
    "nn.save('Optimizer/AlphabetSoupCharity_Optimization3.h5')\n",
    "nn_model = keras.models.load_model('Optimizer/AlphabetSoupCharity_Optimization3.h5')"
   ]
  },
  {
   "cell_type": "markdown",
   "id": "dd6c469e-09ed-4634-b1a6-5a6f7e15cec0",
   "metadata": {},
   "source": [
    "### Trying to search Best hyperparameters using Keras Tuner"
   ]
  },
  {
   "cell_type": "code",
   "execution_count": 76,
   "id": "0d93746f-6824-416b-ad14-4325e87d1085",
   "metadata": {},
   "outputs": [],
   "source": [
    "# Create a method that creates a new Sequential model with hyperparameter options\n",
    "def create_model(hp):\n",
    "    nn = tf.keras.models.Sequential()\n",
    "\n",
    "    # Allow kerastuner to decide which activation function to use in hidden layers\n",
    "    activation = hp.Choice('activation',['relu','tanh'])\n",
    "    \n",
    "    # Allow kerastuner to decide number of neurons in first layer\n",
    "    nn.add(tf.keras.layers.Dense(units=hp.Int('first_units',\n",
    "        min_value=50,\n",
    "        max_value=100,\n",
    "        step=10), activation=activation, input_dim=48))\n",
    "\n",
    "    # Allow kerastuner to decide number of hidden layers and neurons in hidden layers\n",
    "    for i in range(hp.Int('num_layers', 1, 5)):\n",
    "        nn.add(tf.keras.layers.Dense(units=hp.Int('units_' + str(i),\n",
    "            min_value=50,\n",
    "            max_value=100,\n",
    "            step=10),\n",
    "            activation=activation))\n",
    "    \n",
    "    nn.add(tf.keras.layers.Dense(units=1, activation=\"sigmoid\"))\n",
    "\n",
    "    # Compile the model\n",
    "    nn.compile(loss=\"binary_crossentropy\", optimizer=tf.keras.optimizers.Adam(learning_rate=0.0001), metrics=[\"accuracy\"])\n",
    "    \n",
    "    return nn"
   ]
  },
  {
   "cell_type": "code",
   "execution_count": 77,
   "id": "9dc2805c-33b2-41ad-b97d-efd9213e0145",
   "metadata": {},
   "outputs": [
    {
     "name": "stdout",
     "output_type": "stream",
     "text": [
      "INFO:tensorflow:Reloading Oracle from existing project ./untitled_project/oracle.json\n",
      "INFO:tensorflow:Reloading Tuner from ./untitled_project/tuner0.json\n"
     ]
    }
   ],
   "source": [
    "# Import the kerastuner library\n",
    "import keras_tuner as kt\n",
    "\n",
    "tuner = kt.Hyperband(\n",
    "    create_model,\n",
    "    objective=\"val_accuracy\",\n",
    "    max_epochs=50,\n",
    "    hyperband_iterations=2)"
   ]
  },
  {
   "cell_type": "code",
   "execution_count": 78,
   "id": "a7792241-f5b2-47a0-adcd-f7059aa0f765",
   "metadata": {},
   "outputs": [
    {
     "name": "stdout",
     "output_type": "stream",
     "text": [
      "Trial 38 Complete [00h 01m 18s]\n",
      "val_accuracy: 0.7350297570228577\n",
      "\n",
      "Best val_accuracy So Far: 0.7366639375686646\n",
      "Total elapsed time: 00h 18m 22s\n",
      "INFO:tensorflow:Oracle triggered exit\n"
     ]
    }
   ],
   "source": [
    "# Run the kerastuner search for best hyperparameters\n",
    "tuner.search(X_train_scaled,y_train,epochs=50,validation_data=(X_test_scaled,y_test))\n"
   ]
  },
  {
   "cell_type": "code",
   "execution_count": 79,
   "id": "42ea0214-f0af-483f-8495-04d23029608f",
   "metadata": {},
   "outputs": [
    {
     "name": "stdout",
     "output_type": "stream",
     "text": [
      "{'activation': 'relu', 'first_units': 85, 'num_layers': 2, 'units_0': 65, 'units_1': 80, 'units_2': 70, 'units_3': 75, 'units_4': 90, 'tuner/epochs': 17, 'tuner/initial_epoch': 0, 'tuner/bracket': 1, 'tuner/round': 0}\n",
      "{'activation': 'relu', 'first_units': 100, 'num_layers': 3, 'units_0': 80, 'units_1': 55, 'units_2': 95, 'units_3': 80, 'units_4': 80, 'tuner/epochs': 50, 'tuner/initial_epoch': 17, 'tuner/bracket': 2, 'tuner/round': 2, 'tuner/trial_id': '1cbe1e4efd700a62bd6b9ff562d41ad4'}\n",
      "{'activation': 'relu', 'first_units': 85, 'num_layers': 3, 'units_0': 70, 'units_1': 95, 'units_2': 75, 'units_3': 85, 'units_4': 95, 'tuner/epochs': 50, 'tuner/initial_epoch': 17, 'tuner/bracket': 3, 'tuner/round': 3, 'tuner/trial_id': 'b3c4f7da4768ea25c7786fe8bc8491af'}\n"
     ]
    }
   ],
   "source": [
    "# Get top 3 model hyperparameters and print the values\n",
    "top_hyper = tuner.get_best_hyperparameters(3)\n",
    "for param in top_hyper:\n",
    "    print(param.values)"
   ]
  },
  {
   "cell_type": "code",
   "execution_count": 80,
   "id": "b216c14a-5f6d-4c15-b59c-f7e3d8f04508",
   "metadata": {},
   "outputs": [
    {
     "name": "stdout",
     "output_type": "stream",
     "text": [
      "268/268 - 0s - loss: 0.5485 - accuracy: 0.7367\n",
      "Loss: 0.5484513640403748, Accuracy: 0.7366639375686646\n",
      "268/268 - 0s - loss: 0.5448 - accuracy: 0.7363\n",
      "Loss: 0.5447798371315002, Accuracy: 0.7363137602806091\n",
      "268/268 - 0s - loss: 0.5488 - accuracy: 0.7361\n",
      "Loss: 0.5488294363021851, Accuracy: 0.7360802888870239\n"
     ]
    }
   ],
   "source": [
    "# Evaluate the top 3 models against the test dataset\n",
    "top_model = tuner.get_best_models(3)\n",
    "for model in top_model:\n",
    "    model_loss, model_accuracy = model.evaluate(X_test_scaled,y_test,verbose=2)\n",
    "    print(f\"Loss: {model_loss}, Accuracy: {model_accuracy}\")"
   ]
  },
  {
   "cell_type": "code",
   "execution_count": null,
   "id": "7c616566-457d-4632-aa43-b0949f25f369",
   "metadata": {},
   "outputs": [],
   "source": []
  }
 ],
 "metadata": {
  "kernelspec": {
   "display_name": "Python 3",
   "language": "python",
   "name": "python3"
  },
  "language_info": {
   "codemirror_mode": {
    "name": "ipython",
    "version": 3
   },
   "file_extension": ".py",
   "mimetype": "text/x-python",
   "name": "python",
   "nbconvert_exporter": "python",
   "pygments_lexer": "ipython3",
   "version": "3.6.13"
  }
 },
 "nbformat": 4,
 "nbformat_minor": 5
}
